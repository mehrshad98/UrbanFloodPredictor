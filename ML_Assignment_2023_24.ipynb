{
  "nbformat": 4,
  "nbformat_minor": 0,
  "metadata": {
    "colab": {
      "provenance": [],
      "collapsed_sections": [
        "utrDAR8tKbch"
      ],
      "include_colab_link": true
    },
    "kernelspec": {
      "name": "python3",
      "display_name": "Python 3"
    },
    "language_info": {
      "name": "python"
    }
  },
  "cells": [
    {
      "cell_type": "markdown",
      "metadata": {
        "id": "view-in-github",
        "colab_type": "text"
      },
      "source": [
        "<a href=\"https://colab.research.google.com/github/mehrshad98/UrbanFloodPredictor/blob/main/ML_Assignment_2023_24.ipynb\" target=\"_parent\"><img src=\"https://colab.research.google.com/assets/colab-badge.svg\" alt=\"Open In Colab\"/></a>"
      ]
    },
    {
      "cell_type": "markdown",
      "source": [
        "# Initialization"
      ],
      "metadata": {
        "id": "i2iSfhuWm-Hc"
      }
    },
    {
      "cell_type": "markdown",
      "source": [
        "The files to download:\n",
        "\n",
        "[**Description File**](https://drive.google.com/file/d/1RIh5XnQhMvCYLTjSw5TR8I6TjVEkTzqK/view?usp=sharing)\n",
        "\n",
        "[Assignment zip file](https://drive.google.com/file/d/1gKhhdxr0KhFw6S7SeWao6Nzm_4rAxe1U/view?usp=sharing)\n"
      ],
      "metadata": {
        "id": "DUZKybiXpwO7"
      }
    },
    {
      "cell_type": "markdown",
      "source": [
        "# Notes:\n",
        "- The parameters in `training_parameters.csv` and `./test_parameters.csv` are the average of those parameters in the urban area. We don't have the microscopic values for each edge/street.\n",
        "\n",
        "These parameters include:\n",
        "  -\t**ObservationIndex**: an identifier for the observation.\n",
        "  -\t**SurfaceType**: Type of urban surface.\n",
        "  -\tWaterflow: (it’s named **RainfallIntensity** in the CSV file) Intensity and duration of water flow.\n",
        "  -\tInitialWaterLevels: (it’s named as **Init_Max_hour** in the CSV file) Pre-simulation underground water level.\n",
        "  -\t**DrainageSystemCapacity**: Indicator of drainage efficiency.\n",
        "  -\t**GreenSpaceRatio**: Proportion of greenery in the urban area.\n"
      ],
      "metadata": {
        "id": "7wbbFVUQwHLR"
      }
    },
    {
      "cell_type": "markdown",
      "source": [
        "#Load Data"
      ],
      "metadata": {
        "id": "bHAEd4Sz5_ah"
      }
    },
    {
      "cell_type": "code",
      "source": [
        "from google.colab import drive\n",
        "import os\n",
        "import pandas as pd\n",
        "\n",
        "\n",
        "# Mount Google Drive to /content/drive\n",
        "drive.mount('/content/drive')\n"
      ],
      "metadata": {
        "id": "nDVWTwpg6TBN",
        "colab": {
          "base_uri": "https://localhost:8080/"
        },
        "outputId": "ea6824eb-08be-412a-dfdc-8cb21106312f"
      },
      "execution_count": 70,
      "outputs": [
        {
          "output_type": "stream",
          "name": "stdout",
          "text": [
            "Drive already mounted at /content/drive; to attempt to forcibly remount, call drive.mount(\"/content/drive\", force_remount=True).\n"
          ]
        }
      ]
    },
    {
      "cell_type": "code",
      "source": [
        "training_params_path = \"/content/drive/MyDrive/Mythings/Polimi/ML/Project/MLAssignment202324/training_parameters.csv\"\n",
        "training_params_df = pd.read_csv(training_params_path) #training_set\n"
      ],
      "metadata": {
        "id": "wwXUBtBm6dAe"
      },
      "execution_count": 71,
      "outputs": []
    },
    {
      "cell_type": "code",
      "source": [
        "\n",
        "folder_path = \"/content/drive/MyDrive/Mythings/Polimi/ML/Project/MLAssignment202324/training\"\n",
        "all_files = os.listdir(folder_path)\n",
        "\n",
        "merged_dfs = []\n",
        "\n",
        "for observation_index in training_params_df['ObservationIndex']:\n",
        "    # Construct the filename based on the ObservationIndex\n",
        "    filename = f'{observation_index}.csv'\n",
        "\n",
        "    # Check if the file exists\n",
        "    if filename in all_files:\n",
        "        file_path = os.path.join(folder_path, filename)\n",
        "\n",
        "        # Read the CSV file for the current ObservationIndex with correct separator\n",
        "        df = pd.read_csv(file_path, sep=',')\n",
        "\n",
        "        # Add 'ObservationIndex' to the separate CSV file\n",
        "        df['ObservationIndex'] = observation_index\n",
        "\n",
        "        merged_dfs.append(df)\n",
        "    else:\n",
        "        print(f\"Warning: File {filename} not found\")\n",
        "\n",
        "# Concatenate the DataFrames\n",
        "final_df = pd.concat(merged_dfs, ignore_index=True)\n",
        "\n",
        "# Merge final_df with training_params_df on 'ObservationIndex'\n",
        "final_df = pd.merge(final_df, training_params_df, on='ObservationIndex')\n",
        "\n",
        "# Reorder columns for better clarity\n",
        "final_df = final_df[['ObservationIndex', 'SurfaceType', 'RainfallIntensity',\n",
        "                     'init_max_hour', 'DrainageSystemCapacity', 'GreenSpaceRatio',\n",
        "                     'head_id', 'tail_id', 'flooded_init', 'flooded_final']]\n",
        "\n"
      ],
      "metadata": {
        "id": "TrlC77G36HFY"
      },
      "execution_count": 72,
      "outputs": []
    },
    {
      "cell_type": "code",
      "source": [
        "test_csv_path = \"/content/drive/MyDrive/Mythings/Polimi/ML/Project/MLAssignment202324/test_parameters.csv\"\n",
        "test_df = pd.read_csv(test_csv_path) #test_set\n"
      ],
      "metadata": {
        "id": "BWyA-xbxAEjX"
      },
      "execution_count": 73,
      "outputs": []
    },
    {
      "cell_type": "code",
      "source": [
        "\n",
        "folder_path = \"/content/drive/MyDrive/Mythings/Polimi/ML/Project/MLAssignment202324/test\"\n",
        "all_files = os.listdir(folder_path)\n",
        "\n",
        "merged_dfs = []\n",
        "\n",
        "for observation_index in test_df['ObservationIndex']:\n",
        "    # Construct the filename based on the ObservationIndex\n",
        "    filename = f'{observation_index}.csv'\n",
        "\n",
        "    # Check if the file exists\n",
        "    if filename in all_files:\n",
        "        file_path = os.path.join(folder_path, filename)\n",
        "\n",
        "        # Read the CSV file for the current ObservationIndex with correct separator\n",
        "        df = pd.read_csv(file_path, sep=',')\n",
        "\n",
        "        # Add 'ObservationIndex' to the separate CSV file\n",
        "        df['ObservationIndex'] = observation_index\n",
        "\n",
        "        merged_dfs.append(df)\n",
        "    else:\n",
        "        print(f\"Warning: File {filename} not found\")\n",
        "\n",
        "# Concatenate the DataFrames\n",
        "final_test_df = pd.concat(merged_dfs, ignore_index=True)\n",
        "\n",
        "# Merge final_df with test_df on 'ObservationIndex'\n",
        "final_test_df = pd.merge(final_test_df, test_df, on='ObservationIndex')\n",
        "\n",
        "# Reorder columns for better clarity\n",
        "final_test_df = final_test_df[['ObservationIndex', 'SurfaceType', 'RainfallIntensity',\n",
        "                     'init_max_hour', 'DrainageSystemCapacity', 'GreenSpaceRatio',\n",
        "                     'head_id', 'tail_id', 'flooded_init']]\n"
      ],
      "metadata": {
        "id": "GiLqFB5kB9V-"
      },
      "execution_count": 74,
      "outputs": []
    },
    {
      "cell_type": "code",
      "source": [
        "# Save the final merged DataFrame to a CSV file if needed\n",
        "final_df.to_csv('/content/drive/MyDrive/Mythings/Polimi/ML/Project/MLAssignment202324/training_data.csv', index=False)\n"
      ],
      "metadata": {
        "id": "-RnirnlZpvVW"
      },
      "execution_count": 75,
      "outputs": []
    },
    {
      "cell_type": "code",
      "source": [
        "final_test_df.to_csv('/content/drive/MyDrive/Mythings/Polimi/ML/Project/MLAssignment202324/test_data.csv', index=False)\n"
      ],
      "metadata": {
        "id": "NLr_PYEtDlk8"
      },
      "execution_count": 76,
      "outputs": []
    },
    {
      "cell_type": "markdown",
      "source": [
        "#Understanding the Data"
      ],
      "metadata": {
        "id": "NtazGQzPHgs8"
      }
    },
    {
      "cell_type": "code",
      "source": [
        "import pandas as pd\n",
        "import numpy as np"
      ],
      "metadata": {
        "id": "KIjS2Qw7IF11"
      },
      "execution_count": 25,
      "outputs": []
    },
    {
      "cell_type": "code",
      "source": [
        "print(final_df.sample(5, random_state=42))\n",
        "#Return a random sample of items"
      ],
      "metadata": {
        "colab": {
          "base_uri": "https://localhost:8080/"
        },
        "id": "epx9-nEO7Exz",
        "outputId": "afd60f7f-b5bb-4990-8f12-0dfc4ad83746"
      },
      "execution_count": 26,
      "outputs": [
        {
          "output_type": "stream",
          "name": "stdout",
          "text": [
            "        ObservationIndex SurfaceType  RainfallIntensity  init_max_hour  \\\n",
            "508873              2664           B                  4              4   \n",
            "205615              1076           D                  4              3   \n",
            "220126              1152           B                  5              4   \n",
            "240474              1259           C                  4              5   \n",
            "318463              1667           B                  4              3   \n",
            "\n",
            "        DrainageSystemCapacity  GreenSpaceRatio    head_id    tail_id  \\\n",
            "508873                    0.27             0.11  152361421  152361424   \n",
            "205615                    0.28             0.19  152443834  152909837   \n",
            "220126                    0.27             0.14  152443827  153233144   \n",
            "240474                    0.27             0.11  151779763  152541738   \n",
            "318463                    0.23             0.12  152432904  153143284   \n",
            "\n",
            "        flooded_init  flooded_final  \n",
            "508873          True           True  \n",
            "205615         False          False  \n",
            "220126         False          False  \n",
            "240474         False          False  \n",
            "318463         False          False  \n"
          ]
        }
      ]
    },
    {
      "cell_type": "code",
      "source": [
        "# Display basic information about the dataset\n",
        "print(final_df.info(),'\\n\\n')\n",
        "\n",
        "# Display summary statistics of numerical columns\n",
        "print(final_df.describe(),'\\n\\n')\n",
        "\n",
        "# Check for missing values\n",
        "print(final_df.isnull().sum())"
      ],
      "metadata": {
        "colab": {
          "base_uri": "https://localhost:8080/"
        },
        "id": "Cs-Hk5pZOW2M",
        "outputId": "cbcb390e-c2a3-4774-e080-5478e6c7283d"
      },
      "execution_count": 27,
      "outputs": [
        {
          "output_type": "stream",
          "name": "stdout",
          "text": [
            "<class 'pandas.core.frame.DataFrame'>\n",
            "Int64Index: 573000 entries, 0 to 572999\n",
            "Data columns (total 10 columns):\n",
            " #   Column                  Non-Null Count   Dtype  \n",
            "---  ------                  --------------   -----  \n",
            " 0   ObservationIndex        573000 non-null  int64  \n",
            " 1   SurfaceType             573000 non-null  object \n",
            " 2   RainfallIntensity       573000 non-null  int64  \n",
            " 3   init_max_hour           573000 non-null  int64  \n",
            " 4   DrainageSystemCapacity  573000 non-null  float64\n",
            " 5   GreenSpaceRatio         573000 non-null  float64\n",
            " 6   head_id                 573000 non-null  int64  \n",
            " 7   tail_id                 573000 non-null  int64  \n",
            " 8   flooded_init            573000 non-null  bool   \n",
            " 9   flooded_final           573000 non-null  bool   \n",
            "dtypes: bool(2), float64(2), int64(5), object(1)\n",
            "memory usage: 40.4+ MB\n",
            "None \n",
            "\n",
            "\n",
            "       ObservationIndex  RainfallIntensity  init_max_hour  \\\n",
            "count     573000.000000      573000.000000  573000.000000   \n",
            "mean        1499.500000           2.157667       4.010667   \n",
            "std          866.026111          36.598613       0.814793   \n",
            "min            0.000000        -999.000000       3.000000   \n",
            "25%          749.750000           2.000000       3.000000   \n",
            "50%         1499.500000           4.000000       4.000000   \n",
            "75%         2249.250000           4.000000       5.000000   \n",
            "max         2999.000000           5.000000       5.000000   \n",
            "\n",
            "       DrainageSystemCapacity  GreenSpaceRatio       head_id       tail_id  \n",
            "count           573000.000000    573000.000000  5.730000e+05  5.730000e+05  \n",
            "mean                 0.199047         0.200780  1.853797e+08  3.591893e+08  \n",
            "std                  0.057167         0.059035  3.848152e+08  9.310898e+08  \n",
            "min                  0.100000         0.100000  1.517797e+08  1.521303e+08  \n",
            "25%                  0.150000         0.150000  1.523614e+08  1.525417e+08  \n",
            "50%                  0.200000         0.200000  1.524438e+08  1.529098e+08  \n",
            "75%                  0.250000         0.250000  1.526598e+08  1.532331e+08  \n",
            "max                  0.300000         0.300000  5.387962e+09  6.259948e+09   \n",
            "\n",
            "\n",
            "ObservationIndex          0\n",
            "SurfaceType               0\n",
            "RainfallIntensity         0\n",
            "init_max_hour             0\n",
            "DrainageSystemCapacity    0\n",
            "GreenSpaceRatio           0\n",
            "head_id                   0\n",
            "tail_id                   0\n",
            "flooded_init              0\n",
            "flooded_final             0\n",
            "dtype: int64\n"
          ]
        }
      ]
    },
    {
      "cell_type": "markdown",
      "source": [
        "#Preprocessing"
      ],
      "metadata": {
        "id": "m22931RC_ZFc"
      }
    },
    {
      "cell_type": "markdown",
      "source": [
        "###Replace the head_id and tail_id columns with information from the edge_info.csv file"
      ],
      "metadata": {
        "id": "YkY8iEgMJ7q2"
      }
    },
    {
      "cell_type": "code",
      "source": [
        "\n",
        "# Load the edge_info.csv file\n",
        "edge_info_df = pd.read_csv('/content/drive/MyDrive/Mythings/Polimi/ML/Project/MLAssignment202324/edge_info.csv')\n",
        "\n",
        "# Merge the main dataset with edge_info_df based on head_id and tail_id\n",
        "df = pd.merge(edge_info_df[['head_id', 'longitude', 'latitude', 'altitude']],\n",
        "              final_df, how='right', on='head_id')\n",
        "\n",
        "# Drop the original head_id and tail_id columns\n",
        "df.drop(['head_id', 'tail_id'], axis=1, inplace=True)\n",
        "\n",
        "\n",
        "df.sample(5, random_state=42)\n",
        "\n"
      ],
      "metadata": {
        "colab": {
          "base_uri": "https://localhost:8080/",
          "height": 206
        },
        "id": "Rbt_g-vXJ4xe",
        "outputId": "c640e5c3-c4d4-4998-c939-69de51069cbb"
      },
      "execution_count": 28,
      "outputs": [
        {
          "output_type": "execute_result",
          "data": {
            "text/plain": [
              "         longitude   latitude  altitude  ObservationIndex SurfaceType  \\\n",
              "500935  -95.377158  29.796617     861.8              1156           B   \n",
              "1080732 -95.381020  29.794728     912.8              2495           A   \n",
              "242334  -95.379092  29.792983     924.6               559           D   \n",
              "1053890 -95.381008  29.794020     966.8              2433           B   \n",
              "700070  -95.377929  29.792612     987.3              1616           C   \n",
              "\n",
              "         RainfallIntensity  init_max_hour  DrainageSystemCapacity  \\\n",
              "500935                   3              5                    0.23   \n",
              "1080732                  4              5                    0.28   \n",
              "242334                   4              3                    0.16   \n",
              "1053890                  3              3                    0.20   \n",
              "700070                   3              4                    0.11   \n",
              "\n",
              "         GreenSpaceRatio  flooded_init  flooded_final  \n",
              "500935              0.13         False          False  \n",
              "1080732             0.20         False          False  \n",
              "242334              0.11         False          False  \n",
              "1053890             0.21         False          False  \n",
              "700070              0.23         False          False  "
            ],
            "text/html": [
              "\n",
              "  <div id=\"df-43823deb-f561-4352-b0a6-6134ec17ff49\" class=\"colab-df-container\">\n",
              "    <div>\n",
              "<style scoped>\n",
              "    .dataframe tbody tr th:only-of-type {\n",
              "        vertical-align: middle;\n",
              "    }\n",
              "\n",
              "    .dataframe tbody tr th {\n",
              "        vertical-align: top;\n",
              "    }\n",
              "\n",
              "    .dataframe thead th {\n",
              "        text-align: right;\n",
              "    }\n",
              "</style>\n",
              "<table border=\"1\" class=\"dataframe\">\n",
              "  <thead>\n",
              "    <tr style=\"text-align: right;\">\n",
              "      <th></th>\n",
              "      <th>longitude</th>\n",
              "      <th>latitude</th>\n",
              "      <th>altitude</th>\n",
              "      <th>ObservationIndex</th>\n",
              "      <th>SurfaceType</th>\n",
              "      <th>RainfallIntensity</th>\n",
              "      <th>init_max_hour</th>\n",
              "      <th>DrainageSystemCapacity</th>\n",
              "      <th>GreenSpaceRatio</th>\n",
              "      <th>flooded_init</th>\n",
              "      <th>flooded_final</th>\n",
              "    </tr>\n",
              "  </thead>\n",
              "  <tbody>\n",
              "    <tr>\n",
              "      <th>500935</th>\n",
              "      <td>-95.377158</td>\n",
              "      <td>29.796617</td>\n",
              "      <td>861.8</td>\n",
              "      <td>1156</td>\n",
              "      <td>B</td>\n",
              "      <td>3</td>\n",
              "      <td>5</td>\n",
              "      <td>0.23</td>\n",
              "      <td>0.13</td>\n",
              "      <td>False</td>\n",
              "      <td>False</td>\n",
              "    </tr>\n",
              "    <tr>\n",
              "      <th>1080732</th>\n",
              "      <td>-95.381020</td>\n",
              "      <td>29.794728</td>\n",
              "      <td>912.8</td>\n",
              "      <td>2495</td>\n",
              "      <td>A</td>\n",
              "      <td>4</td>\n",
              "      <td>5</td>\n",
              "      <td>0.28</td>\n",
              "      <td>0.20</td>\n",
              "      <td>False</td>\n",
              "      <td>False</td>\n",
              "    </tr>\n",
              "    <tr>\n",
              "      <th>242334</th>\n",
              "      <td>-95.379092</td>\n",
              "      <td>29.792983</td>\n",
              "      <td>924.6</td>\n",
              "      <td>559</td>\n",
              "      <td>D</td>\n",
              "      <td>4</td>\n",
              "      <td>3</td>\n",
              "      <td>0.16</td>\n",
              "      <td>0.11</td>\n",
              "      <td>False</td>\n",
              "      <td>False</td>\n",
              "    </tr>\n",
              "    <tr>\n",
              "      <th>1053890</th>\n",
              "      <td>-95.381008</td>\n",
              "      <td>29.794020</td>\n",
              "      <td>966.8</td>\n",
              "      <td>2433</td>\n",
              "      <td>B</td>\n",
              "      <td>3</td>\n",
              "      <td>3</td>\n",
              "      <td>0.20</td>\n",
              "      <td>0.21</td>\n",
              "      <td>False</td>\n",
              "      <td>False</td>\n",
              "    </tr>\n",
              "    <tr>\n",
              "      <th>700070</th>\n",
              "      <td>-95.377929</td>\n",
              "      <td>29.792612</td>\n",
              "      <td>987.3</td>\n",
              "      <td>1616</td>\n",
              "      <td>C</td>\n",
              "      <td>3</td>\n",
              "      <td>4</td>\n",
              "      <td>0.11</td>\n",
              "      <td>0.23</td>\n",
              "      <td>False</td>\n",
              "      <td>False</td>\n",
              "    </tr>\n",
              "  </tbody>\n",
              "</table>\n",
              "</div>\n",
              "    <div class=\"colab-df-buttons\">\n",
              "\n",
              "  <div class=\"colab-df-container\">\n",
              "    <button class=\"colab-df-convert\" onclick=\"convertToInteractive('df-43823deb-f561-4352-b0a6-6134ec17ff49')\"\n",
              "            title=\"Convert this dataframe to an interactive table.\"\n",
              "            style=\"display:none;\">\n",
              "\n",
              "  <svg xmlns=\"http://www.w3.org/2000/svg\" height=\"24px\" viewBox=\"0 -960 960 960\">\n",
              "    <path d=\"M120-120v-720h720v720H120Zm60-500h600v-160H180v160Zm220 220h160v-160H400v160Zm0 220h160v-160H400v160ZM180-400h160v-160H180v160Zm440 0h160v-160H620v160ZM180-180h160v-160H180v160Zm440 0h160v-160H620v160Z\"/>\n",
              "  </svg>\n",
              "    </button>\n",
              "\n",
              "  <style>\n",
              "    .colab-df-container {\n",
              "      display:flex;\n",
              "      gap: 12px;\n",
              "    }\n",
              "\n",
              "    .colab-df-convert {\n",
              "      background-color: #E8F0FE;\n",
              "      border: none;\n",
              "      border-radius: 50%;\n",
              "      cursor: pointer;\n",
              "      display: none;\n",
              "      fill: #1967D2;\n",
              "      height: 32px;\n",
              "      padding: 0 0 0 0;\n",
              "      width: 32px;\n",
              "    }\n",
              "\n",
              "    .colab-df-convert:hover {\n",
              "      background-color: #E2EBFA;\n",
              "      box-shadow: 0px 1px 2px rgba(60, 64, 67, 0.3), 0px 1px 3px 1px rgba(60, 64, 67, 0.15);\n",
              "      fill: #174EA6;\n",
              "    }\n",
              "\n",
              "    .colab-df-buttons div {\n",
              "      margin-bottom: 4px;\n",
              "    }\n",
              "\n",
              "    [theme=dark] .colab-df-convert {\n",
              "      background-color: #3B4455;\n",
              "      fill: #D2E3FC;\n",
              "    }\n",
              "\n",
              "    [theme=dark] .colab-df-convert:hover {\n",
              "      background-color: #434B5C;\n",
              "      box-shadow: 0px 1px 3px 1px rgba(0, 0, 0, 0.15);\n",
              "      filter: drop-shadow(0px 1px 2px rgba(0, 0, 0, 0.3));\n",
              "      fill: #FFFFFF;\n",
              "    }\n",
              "  </style>\n",
              "\n",
              "    <script>\n",
              "      const buttonEl =\n",
              "        document.querySelector('#df-43823deb-f561-4352-b0a6-6134ec17ff49 button.colab-df-convert');\n",
              "      buttonEl.style.display =\n",
              "        google.colab.kernel.accessAllowed ? 'block' : 'none';\n",
              "\n",
              "      async function convertToInteractive(key) {\n",
              "        const element = document.querySelector('#df-43823deb-f561-4352-b0a6-6134ec17ff49');\n",
              "        const dataTable =\n",
              "          await google.colab.kernel.invokeFunction('convertToInteractive',\n",
              "                                                    [key], {});\n",
              "        if (!dataTable) return;\n",
              "\n",
              "        const docLinkHtml = 'Like what you see? Visit the ' +\n",
              "          '<a target=\"_blank\" href=https://colab.research.google.com/notebooks/data_table.ipynb>data table notebook</a>'\n",
              "          + ' to learn more about interactive tables.';\n",
              "        element.innerHTML = '';\n",
              "        dataTable['output_type'] = 'display_data';\n",
              "        await google.colab.output.renderOutput(dataTable, element);\n",
              "        const docLink = document.createElement('div');\n",
              "        docLink.innerHTML = docLinkHtml;\n",
              "        element.appendChild(docLink);\n",
              "      }\n",
              "    </script>\n",
              "  </div>\n",
              "\n",
              "\n",
              "<div id=\"df-dc8a0cd2-d24c-41a9-8af4-60e1b1c8655e\">\n",
              "  <button class=\"colab-df-quickchart\" onclick=\"quickchart('df-dc8a0cd2-d24c-41a9-8af4-60e1b1c8655e')\"\n",
              "            title=\"Suggest charts\"\n",
              "            style=\"display:none;\">\n",
              "\n",
              "<svg xmlns=\"http://www.w3.org/2000/svg\" height=\"24px\"viewBox=\"0 0 24 24\"\n",
              "     width=\"24px\">\n",
              "    <g>\n",
              "        <path d=\"M19 3H5c-1.1 0-2 .9-2 2v14c0 1.1.9 2 2 2h14c1.1 0 2-.9 2-2V5c0-1.1-.9-2-2-2zM9 17H7v-7h2v7zm4 0h-2V7h2v10zm4 0h-2v-4h2v4z\"/>\n",
              "    </g>\n",
              "</svg>\n",
              "  </button>\n",
              "\n",
              "<style>\n",
              "  .colab-df-quickchart {\n",
              "      --bg-color: #E8F0FE;\n",
              "      --fill-color: #1967D2;\n",
              "      --hover-bg-color: #E2EBFA;\n",
              "      --hover-fill-color: #174EA6;\n",
              "      --disabled-fill-color: #AAA;\n",
              "      --disabled-bg-color: #DDD;\n",
              "  }\n",
              "\n",
              "  [theme=dark] .colab-df-quickchart {\n",
              "      --bg-color: #3B4455;\n",
              "      --fill-color: #D2E3FC;\n",
              "      --hover-bg-color: #434B5C;\n",
              "      --hover-fill-color: #FFFFFF;\n",
              "      --disabled-bg-color: #3B4455;\n",
              "      --disabled-fill-color: #666;\n",
              "  }\n",
              "\n",
              "  .colab-df-quickchart {\n",
              "    background-color: var(--bg-color);\n",
              "    border: none;\n",
              "    border-radius: 50%;\n",
              "    cursor: pointer;\n",
              "    display: none;\n",
              "    fill: var(--fill-color);\n",
              "    height: 32px;\n",
              "    padding: 0;\n",
              "    width: 32px;\n",
              "  }\n",
              "\n",
              "  .colab-df-quickchart:hover {\n",
              "    background-color: var(--hover-bg-color);\n",
              "    box-shadow: 0 1px 2px rgba(60, 64, 67, 0.3), 0 1px 3px 1px rgba(60, 64, 67, 0.15);\n",
              "    fill: var(--button-hover-fill-color);\n",
              "  }\n",
              "\n",
              "  .colab-df-quickchart-complete:disabled,\n",
              "  .colab-df-quickchart-complete:disabled:hover {\n",
              "    background-color: var(--disabled-bg-color);\n",
              "    fill: var(--disabled-fill-color);\n",
              "    box-shadow: none;\n",
              "  }\n",
              "\n",
              "  .colab-df-spinner {\n",
              "    border: 2px solid var(--fill-color);\n",
              "    border-color: transparent;\n",
              "    border-bottom-color: var(--fill-color);\n",
              "    animation:\n",
              "      spin 1s steps(1) infinite;\n",
              "  }\n",
              "\n",
              "  @keyframes spin {\n",
              "    0% {\n",
              "      border-color: transparent;\n",
              "      border-bottom-color: var(--fill-color);\n",
              "      border-left-color: var(--fill-color);\n",
              "    }\n",
              "    20% {\n",
              "      border-color: transparent;\n",
              "      border-left-color: var(--fill-color);\n",
              "      border-top-color: var(--fill-color);\n",
              "    }\n",
              "    30% {\n",
              "      border-color: transparent;\n",
              "      border-left-color: var(--fill-color);\n",
              "      border-top-color: var(--fill-color);\n",
              "      border-right-color: var(--fill-color);\n",
              "    }\n",
              "    40% {\n",
              "      border-color: transparent;\n",
              "      border-right-color: var(--fill-color);\n",
              "      border-top-color: var(--fill-color);\n",
              "    }\n",
              "    60% {\n",
              "      border-color: transparent;\n",
              "      border-right-color: var(--fill-color);\n",
              "    }\n",
              "    80% {\n",
              "      border-color: transparent;\n",
              "      border-right-color: var(--fill-color);\n",
              "      border-bottom-color: var(--fill-color);\n",
              "    }\n",
              "    90% {\n",
              "      border-color: transparent;\n",
              "      border-bottom-color: var(--fill-color);\n",
              "    }\n",
              "  }\n",
              "</style>\n",
              "\n",
              "  <script>\n",
              "    async function quickchart(key) {\n",
              "      const quickchartButtonEl =\n",
              "        document.querySelector('#' + key + ' button');\n",
              "      quickchartButtonEl.disabled = true;  // To prevent multiple clicks.\n",
              "      quickchartButtonEl.classList.add('colab-df-spinner');\n",
              "      try {\n",
              "        const charts = await google.colab.kernel.invokeFunction(\n",
              "            'suggestCharts', [key], {});\n",
              "      } catch (error) {\n",
              "        console.error('Error during call to suggestCharts:', error);\n",
              "      }\n",
              "      quickchartButtonEl.classList.remove('colab-df-spinner');\n",
              "      quickchartButtonEl.classList.add('colab-df-quickchart-complete');\n",
              "    }\n",
              "    (() => {\n",
              "      let quickchartButtonEl =\n",
              "        document.querySelector('#df-dc8a0cd2-d24c-41a9-8af4-60e1b1c8655e button');\n",
              "      quickchartButtonEl.style.display =\n",
              "        google.colab.kernel.accessAllowed ? 'block' : 'none';\n",
              "    })();\n",
              "  </script>\n",
              "</div>\n",
              "    </div>\n",
              "  </div>\n"
            ]
          },
          "metadata": {},
          "execution_count": 28
        }
      ]
    },
    {
      "cell_type": "code",
      "source": [
        "df.info()"
      ],
      "metadata": {
        "colab": {
          "base_uri": "https://localhost:8080/"
        },
        "id": "FCN5X4qipUb_",
        "outputId": "85f409a9-ccff-4c64-ace6-5579f44b1df7"
      },
      "execution_count": 29,
      "outputs": [
        {
          "output_type": "stream",
          "name": "stdout",
          "text": [
            "<class 'pandas.core.frame.DataFrame'>\n",
            "Int64Index: 1299000 entries, 0 to 1298999\n",
            "Data columns (total 11 columns):\n",
            " #   Column                  Non-Null Count    Dtype  \n",
            "---  ------                  --------------    -----  \n",
            " 0   longitude               1299000 non-null  float64\n",
            " 1   latitude                1299000 non-null  float64\n",
            " 2   altitude                1299000 non-null  float64\n",
            " 3   ObservationIndex        1299000 non-null  int64  \n",
            " 4   SurfaceType             1299000 non-null  object \n",
            " 5   RainfallIntensity       1299000 non-null  int64  \n",
            " 6   init_max_hour           1299000 non-null  int64  \n",
            " 7   DrainageSystemCapacity  1299000 non-null  float64\n",
            " 8   GreenSpaceRatio         1299000 non-null  float64\n",
            " 9   flooded_init            1299000 non-null  bool   \n",
            " 10  flooded_final           1299000 non-null  bool   \n",
            "dtypes: bool(2), float64(5), int64(3), object(1)\n",
            "memory usage: 101.6+ MB\n"
          ]
        }
      ]
    },
    {
      "cell_type": "markdown",
      "source": [
        "##Feature Engineering"
      ],
      "metadata": {
        "id": "vBqnYl40Kk9f"
      }
    },
    {
      "cell_type": "code",
      "source": [
        "#Create an interaction term between 'RainfallIntensity' and 'GreenSpaceRatio'\n",
        "df['Rainfall_GreenSpace'] = df['RainfallIntensity'] * df['GreenSpaceRatio']\n",
        "\n",
        "# Drop the original GreenSpaceRatio and RainfallIntensity columns\n",
        "df.drop(['GreenSpaceRatio', 'RainfallIntensity'], axis=1, inplace=True)\n",
        "\n",
        "# Reorder columns for better clarity\n",
        "df = df[['longitude', 'latitude', 'altitude', 'SurfaceType',\n",
        "                     'init_max_hour','DrainageSystemCapacity', 'Rainfall_GreenSpace',\n",
        "                     'flooded_init', 'flooded_final']]"
      ],
      "metadata": {
        "id": "Oo2kNSB0Ksdm"
      },
      "execution_count": 30,
      "outputs": []
    },
    {
      "cell_type": "markdown",
      "source": [
        "##Explore the Data"
      ],
      "metadata": {
        "id": "a5MRWuJ49EQD"
      }
    },
    {
      "cell_type": "code",
      "source": [
        "#plot data\n",
        "import seaborn as sns\n",
        "import matplotlib.pyplot as plt\n",
        "\n",
        "df.hist(bins=50, figsize=(12, 8))\n",
        "plt.show()"
      ],
      "metadata": {
        "colab": {
          "base_uri": "https://localhost:8080/",
          "height": 699
        },
        "id": "bfpFYfeSfEIS",
        "outputId": "84a568bd-9861-4dfe-e56e-65ef64a01602"
      },
      "execution_count": 31,
      "outputs": [
        {
          "output_type": "display_data",
          "data": {
            "text/plain": [
              "<Figure size 1200x800 with 6 Axes>"
            ],
            "image/png": "[encoded data removed]"
          },
          "metadata": {}
        }
      ]
    },
    {
      "cell_type": "code",
      "source": [
        "\n",
        "df.plot(kind=\"scatter\", x=\"longitude\", y=\"altitude\", grid=True)\n",
        "plt.title('Altitude vs Longtitude')\n",
        "plt.show()"
      ],
      "metadata": {
        "id": "GlX-8E5maGwU",
        "colab": {
          "base_uri": "https://localhost:8080/",
          "height": 472
        },
        "outputId": "309d87a0-1480-46f0-a726-bb10085b45a4"
      },
      "execution_count": 32,
      "outputs": [
        {
          "output_type": "display_data",
          "data": {
            "text/plain": [
              "<Figure size 640x480 with 1 Axes>"
            ],
            "image/png": "[encoded data removed]"
          },
          "metadata": {}
        }
      ]
    },
    {
      "cell_type": "code",
      "source": [
        "# Count plot of 'flooded_final'\n",
        "sns.countplot(x='flooded_final', data=df)\n",
        "plt.title('Distribution of Flooded Final')\n",
        "plt.show()\n",
        "\n",
        "# Calculate percentage of False values in 'bool_col'\n",
        "false_percentage = (df['flooded_final'].value_counts(normalize=True) * 100).get(False, 0)\n",
        "\n",
        "print(f\"Percentage of False values in 'flooded_final': {false_percentage:.2f}%\")"
      ],
      "metadata": {
        "colab": {
          "base_uri": "https://localhost:8080/",
          "height": 489
        },
        "id": "T7OacZ7Eqaxu",
        "outputId": "f061de1d-e598-4ec4-8b0a-728a6980691a"
      },
      "execution_count": 33,
      "outputs": [
        {
          "output_type": "display_data",
          "data": {
            "text/plain": [
              "<Figure size 640x480 with 1 Axes>"
            ],
            "image/png": "[encoded data removed]"
          },
          "metadata": {}
        },
        {
          "output_type": "stream",
          "name": "stdout",
          "text": [
            "Percentage of False values in 'flooded_final': 83.41%\n"
          ]
        }
      ]
    },
    {
      "cell_type": "markdown",
      "source": [
        "As it is shown in diagram above the target data is imbalenced."
      ],
      "metadata": {
        "id": "-BPaHyxb4v-R"
      }
    },
    {
      "cell_type": "code",
      "source": [
        "# Count plot of 'SurfaceType' with respect to 'flooded_final'\n",
        "sns.countplot(x='SurfaceType', hue='flooded_final', data=df)\n",
        "plt.title('SurfaceType vs. Flooded Final')\n",
        "plt.show()\n"
      ],
      "metadata": {
        "colab": {
          "base_uri": "https://localhost:8080/",
          "height": 472
        },
        "id": "6rLXZUqusC8d",
        "outputId": "61bb4b7e-b4a5-46f7-d706-8cef7e3a37dc"
      },
      "execution_count": 34,
      "outputs": [
        {
          "output_type": "display_data",
          "data": {
            "text/plain": [
              "<Figure size 640x480 with 1 Axes>"
            ],
            "image/png": "[encoded data removed]"
          },
          "metadata": {}
        }
      ]
    },
    {
      "cell_type": "code",
      "source": [
        "# Box plot of 'Rainfall_GreenSpace' with respect to 'flooded_final'\n",
        "sns.boxplot(x='flooded_final', y='altitude', data=df)\n",
        "plt.title('Altitude vs. Flooded Final')\n",
        "plt.show()\n"
      ],
      "metadata": {
        "colab": {
          "base_uri": "https://localhost:8080/",
          "height": 472
        },
        "id": "hrTJ3PTntQvM",
        "outputId": "dff34836-ebde-46f9-876c-8b8ed1bbeaf1"
      },
      "execution_count": 35,
      "outputs": [
        {
          "output_type": "display_data",
          "data": {
            "text/plain": [
              "<Figure size 640x480 with 1 Axes>"
            ],
            "image/png": "[encoded data removed]"
          },
          "metadata": {}
        }
      ]
    },
    {
      "cell_type": "markdown",
      "source": [
        "## Outlier Detection and Treatment\n"
      ],
      "metadata": {
        "id": "HfLRY-bHLkYT"
      }
    },
    {
      "cell_type": "code",
      "source": [
        "# Define numerical columns\n",
        "numerical_cols = ['longitude', 'latitude', 'altitude', 'init_max_hour',\n",
        "                  'DrainageSystemCapacity', 'Rainfall_GreenSpace']\n",
        "\n",
        "# Visualize the distribution of numerical features before outlier treatment using subplots\n",
        "fig, axes = plt.subplots(nrows=len(numerical_cols), ncols=1, figsize=(8, 15))\n",
        "\n",
        "for i, col in enumerate(numerical_cols):\n",
        "    sns.boxplot(y=df[col], ax=axes[i])\n",
        "    axes[i].set_title(f'Boxplot of {col} Before Outlier Treatment')\n",
        "\n",
        "plt.tight_layout()\n",
        "plt.show()"
      ],
      "metadata": {
        "id": "8YNPXecR53wK"
      },
      "execution_count": null,
      "outputs": []
    },
    {
      "cell_type": "markdown",
      "source": [
        "Following the illustrations above, There are some outliers in altitude and Rainfall_GreenSpace"
      ],
      "metadata": {
        "id": "asXXmsI232hZ"
      }
    },
    {
      "cell_type": "code",
      "source": [
        "# Outlier detection and treatment using IQR\n",
        "for col in numerical_cols:\n",
        "    Q1 = df[col].quantile(0.25)\n",
        "    Q3 = df[col].quantile(0.75)\n",
        "    IQR = Q3 - Q1\n",
        "    lower_bound = Q1 - 1.5 * IQR\n",
        "    upper_bound = Q3 + 1.5 * IQR\n",
        "\n",
        "    # Replace values outside the bounds with NaN\n",
        "    df[col] = df[col].apply(lambda x: x if lower_bound <= x <= upper_bound else None)\n"
      ],
      "metadata": {
        "id": "iia3onSLL3uU"
      },
      "execution_count": 37,
      "outputs": []
    },
    {
      "cell_type": "code",
      "source": [
        "# Visualize the distribution of numerical features after outlier treatment using subplots\n",
        "fig, axes = plt.subplots(nrows=len(numerical_cols), ncols=1, figsize=(8, 15))\n",
        "\n",
        "for i, col in enumerate(numerical_cols):\n",
        "    sns.boxplot(y=df[col], ax=axes[i])\n",
        "    axes[i].set_title(f'Boxplot of {col} After Outlier Treatment')\n",
        "\n",
        "plt.tight_layout()\n",
        "plt.show()\n",
        "\n",
        "# Drop rows with NaN values after outlier treatment\n",
        "df = df.dropna()"
      ],
      "metadata": {
        "colab": {
          "base_uri": "https://localhost:8080/",
          "height": 1000
        },
        "id": "jCvcMKJWL7zn",
        "outputId": "75bf8acd-e3cd-4ecc-a046-b2220c08a826"
      },
      "execution_count": 38,
      "outputs": [
        {
          "output_type": "display_data",
          "data": {
            "text/plain": [
              "<Figure size 800x1500 with 6 Axes>"
            ],
            "image/png": "[encoded data removed]"
          },
          "metadata": {}
        }
      ]
    },
    {
      "cell_type": "markdown",
      "source": [
        "##Handling Non-numeric Data"
      ],
      "metadata": {
        "id": "sjhOiDkoKVEW"
      }
    },
    {
      "cell_type": "code",
      "source": [
        "numeric_columns = df.select_dtypes(include=['number']).columns\n",
        "categorical_columns = df.select_dtypes(include=['object']).columns\n"
      ],
      "metadata": {
        "id": "BMj6-kXBG6x9"
      },
      "execution_count": 109,
      "outputs": []
    },
    {
      "cell_type": "code",
      "source": [
        "# One-hot encode\n",
        "df = pd.get_dummies(df, columns=categorical_columns, prefix=categorical_columns, drop_first=True)\n",
        "\n",
        "# Encode 'flooded_init' and 'flooded_final'\n",
        "df.flooded_init = [1 if each == \"True\" else 0 for each in df.flooded_init]\n",
        "df['flooded_final'] = df['flooded_final'].astype(int)\n"
      ],
      "metadata": {
        "id": "nG9oU4oGjfaB"
      },
      "execution_count": 40,
      "outputs": []
    },
    {
      "cell_type": "code",
      "source": [
        "df.sample(5)\n"
      ],
      "metadata": {
        "colab": {
          "base_uri": "https://localhost:8080/",
          "height": 206
        },
        "id": "p4nrxDBw7rPq",
        "outputId": "1dbcb3f9-5ca1-4ee1-8f25-fab99ae42309"
      },
      "execution_count": 41,
      "outputs": [
        {
          "output_type": "execute_result",
          "data": {
            "text/plain": [
              "         longitude   latitude  altitude  init_max_hour  \\\n",
              "134382  -95.384319  29.792597     875.3              3   \n",
              "812115  -95.379082  29.791834     912.5              4   \n",
              "822660  -95.377186  29.798546    1095.8              3   \n",
              "1053352 -95.379399  29.792618     935.0              4   \n",
              "81370   -95.381868  29.794362     977.9              5   \n",
              "\n",
              "         DrainageSystemCapacity  Rainfall_GreenSpace  flooded_init  \\\n",
              "134382                     0.26                 1.15             0   \n",
              "812115                     0.12                 0.63             0   \n",
              "822660                     0.11                 0.42             0   \n",
              "1053352                    0.28                 0.42             0   \n",
              "81370                      0.24                 0.34             0   \n",
              "\n",
              "         flooded_final  SurfaceType_B  SurfaceType_C  SurfaceType_D  \n",
              "134382               0              1              0              0  \n",
              "812115               0              1              0              0  \n",
              "822660               0              0              0              1  \n",
              "1053352              0              1              0              0  \n",
              "81370                0              0              0              0  "
            ],
            "text/html": [
              "\n",
              "  <div id=\"df-8659b444-d439-4c65-8536-449b7887f776\" class=\"colab-df-container\">\n",
              "    <div>\n",
              "<style scoped>\n",
              "    .dataframe tbody tr th:only-of-type {\n",
              "        vertical-align: middle;\n",
              "    }\n",
              "\n",
              "    .dataframe tbody tr th {\n",
              "        vertical-align: top;\n",
              "    }\n",
              "\n",
              "    .dataframe thead th {\n",
              "        text-align: right;\n",
              "    }\n",
              "</style>\n",
              "<table border=\"1\" class=\"dataframe\">\n",
              "  <thead>\n",
              "    <tr style=\"text-align: right;\">\n",
              "      <th></th>\n",
              "      <th>longitude</th>\n",
              "      <th>latitude</th>\n",
              "      <th>altitude</th>\n",
              "      <th>init_max_hour</th>\n",
              "      <th>DrainageSystemCapacity</th>\n",
              "      <th>Rainfall_GreenSpace</th>\n",
              "      <th>flooded_init</th>\n",
              "      <th>flooded_final</th>\n",
              "      <th>SurfaceType_B</th>\n",
              "      <th>SurfaceType_C</th>\n",
              "      <th>SurfaceType_D</th>\n",
              "    </tr>\n",
              "  </thead>\n",
              "  <tbody>\n",
              "    <tr>\n",
              "      <th>134382</th>\n",
              "      <td>-95.384319</td>\n",
              "      <td>29.792597</td>\n",
              "      <td>875.3</td>\n",
              "      <td>3</td>\n",
              "      <td>0.26</td>\n",
              "      <td>1.15</td>\n",
              "      <td>0</td>\n",
              "      <td>0</td>\n",
              "      <td>1</td>\n",
              "      <td>0</td>\n",
              "      <td>0</td>\n",
              "    </tr>\n",
              "    <tr>\n",
              "      <th>812115</th>\n",
              "      <td>-95.379082</td>\n",
              "      <td>29.791834</td>\n",
              "      <td>912.5</td>\n",
              "      <td>4</td>\n",
              "      <td>0.12</td>\n",
              "      <td>0.63</td>\n",
              "      <td>0</td>\n",
              "      <td>0</td>\n",
              "      <td>1</td>\n",
              "      <td>0</td>\n",
              "      <td>0</td>\n",
              "    </tr>\n",
              "    <tr>\n",
              "      <th>822660</th>\n",
              "      <td>-95.377186</td>\n",
              "      <td>29.798546</td>\n",
              "      <td>1095.8</td>\n",
              "      <td>3</td>\n",
              "      <td>0.11</td>\n",
              "      <td>0.42</td>\n",
              "      <td>0</td>\n",
              "      <td>0</td>\n",
              "      <td>0</td>\n",
              "      <td>0</td>\n",
              "      <td>1</td>\n",
              "    </tr>\n",
              "    <tr>\n",
              "      <th>1053352</th>\n",
              "      <td>-95.379399</td>\n",
              "      <td>29.792618</td>\n",
              "      <td>935.0</td>\n",
              "      <td>4</td>\n",
              "      <td>0.28</td>\n",
              "      <td>0.42</td>\n",
              "      <td>0</td>\n",
              "      <td>0</td>\n",
              "      <td>1</td>\n",
              "      <td>0</td>\n",
              "      <td>0</td>\n",
              "    </tr>\n",
              "    <tr>\n",
              "      <th>81370</th>\n",
              "      <td>-95.381868</td>\n",
              "      <td>29.794362</td>\n",
              "      <td>977.9</td>\n",
              "      <td>5</td>\n",
              "      <td>0.24</td>\n",
              "      <td>0.34</td>\n",
              "      <td>0</td>\n",
              "      <td>0</td>\n",
              "      <td>0</td>\n",
              "      <td>0</td>\n",
              "      <td>0</td>\n",
              "    </tr>\n",
              "  </tbody>\n",
              "</table>\n",
              "</div>\n",
              "    <div class=\"colab-df-buttons\">\n",
              "\n",
              "  <div class=\"colab-df-container\">\n",
              "    <button class=\"colab-df-convert\" onclick=\"convertToInteractive('df-8659b444-d439-4c65-8536-449b7887f776')\"\n",
              "            title=\"Convert this dataframe to an interactive table.\"\n",
              "            style=\"display:none;\">\n",
              "\n",
              "  <svg xmlns=\"http://www.w3.org/2000/svg\" height=\"24px\" viewBox=\"0 -960 960 960\">\n",
              "    <path d=\"M120-120v-720h720v720H120Zm60-500h600v-160H180v160Zm220 220h160v-160H400v160Zm0 220h160v-160H400v160ZM180-400h160v-160H180v160Zm440 0h160v-160H620v160ZM180-180h160v-160H180v160Zm440 0h160v-160H620v160Z\"/>\n",
              "  </svg>\n",
              "    </button>\n",
              "\n",
              "  <style>\n",
              "    .colab-df-container {\n",
              "      display:flex;\n",
              "      gap: 12px;\n",
              "    }\n",
              "\n",
              "    .colab-df-convert {\n",
              "      background-color: #E8F0FE;\n",
              "      border: none;\n",
              "      border-radius: 50%;\n",
              "      cursor: pointer;\n",
              "      display: none;\n",
              "      fill: #1967D2;\n",
              "      height: 32px;\n",
              "      padding: 0 0 0 0;\n",
              "      width: 32px;\n",
              "    }\n",
              "\n",
              "    .colab-df-convert:hover {\n",
              "      background-color: #E2EBFA;\n",
              "      box-shadow: 0px 1px 2px rgba(60, 64, 67, 0.3), 0px 1px 3px 1px rgba(60, 64, 67, 0.15);\n",
              "      fill: #174EA6;\n",
              "    }\n",
              "\n",
              "    .colab-df-buttons div {\n",
              "      margin-bottom: 4px;\n",
              "    }\n",
              "\n",
              "    [theme=dark] .colab-df-convert {\n",
              "      background-color: #3B4455;\n",
              "      fill: #D2E3FC;\n",
              "    }\n",
              "\n",
              "    [theme=dark] .colab-df-convert:hover {\n",
              "      background-color: #434B5C;\n",
              "      box-shadow: 0px 1px 3px 1px rgba(0, 0, 0, 0.15);\n",
              "      filter: drop-shadow(0px 1px 2px rgba(0, 0, 0, 0.3));\n",
              "      fill: #FFFFFF;\n",
              "    }\n",
              "  </style>\n",
              "\n",
              "    <script>\n",
              "      const buttonEl =\n",
              "        document.querySelector('#df-8659b444-d439-4c65-8536-449b7887f776 button.colab-df-convert');\n",
              "      buttonEl.style.display =\n",
              "        google.colab.kernel.accessAllowed ? 'block' : 'none';\n",
              "\n",
              "      async function convertToInteractive(key) {\n",
              "        const element = document.querySelector('#df-8659b444-d439-4c65-8536-449b7887f776');\n",
              "        const dataTable =\n",
              "          await google.colab.kernel.invokeFunction('convertToInteractive',\n",
              "                                                    [key], {});\n",
              "        if (!dataTable) return;\n",
              "\n",
              "        const docLinkHtml = 'Like what you see? Visit the ' +\n",
              "          '<a target=\"_blank\" href=https://colab.research.google.com/notebooks/data_table.ipynb>data table notebook</a>'\n",
              "          + ' to learn more about interactive tables.';\n",
              "        element.innerHTML = '';\n",
              "        dataTable['output_type'] = 'display_data';\n",
              "        await google.colab.output.renderOutput(dataTable, element);\n",
              "        const docLink = document.createElement('div');\n",
              "        docLink.innerHTML = docLinkHtml;\n",
              "        element.appendChild(docLink);\n",
              "      }\n",
              "    </script>\n",
              "  </div>\n",
              "\n",
              "\n",
              "<div id=\"df-4cc1607b-1601-4629-8f84-33316de20fff\">\n",
              "  <button class=\"colab-df-quickchart\" onclick=\"quickchart('df-4cc1607b-1601-4629-8f84-33316de20fff')\"\n",
              "            title=\"Suggest charts\"\n",
              "            style=\"display:none;\">\n",
              "\n",
              "<svg xmlns=\"http://www.w3.org/2000/svg\" height=\"24px\"viewBox=\"0 0 24 24\"\n",
              "     width=\"24px\">\n",
              "    <g>\n",
              "        <path d=\"M19 3H5c-1.1 0-2 .9-2 2v14c0 1.1.9 2 2 2h14c1.1 0 2-.9 2-2V5c0-1.1-.9-2-2-2zM9 17H7v-7h2v7zm4 0h-2V7h2v10zm4 0h-2v-4h2v4z\"/>\n",
              "    </g>\n",
              "</svg>\n",
              "  </button>\n",
              "\n",
              "<style>\n",
              "  .colab-df-quickchart {\n",
              "      --bg-color: #E8F0FE;\n",
              "      --fill-color: #1967D2;\n",
              "      --hover-bg-color: #E2EBFA;\n",
              "      --hover-fill-color: #174EA6;\n",
              "      --disabled-fill-color: #AAA;\n",
              "      --disabled-bg-color: #DDD;\n",
              "  }\n",
              "\n",
              "  [theme=dark] .colab-df-quickchart {\n",
              "      --bg-color: #3B4455;\n",
              "      --fill-color: #D2E3FC;\n",
              "      --hover-bg-color: #434B5C;\n",
              "      --hover-fill-color: #FFFFFF;\n",
              "      --disabled-bg-color: #3B4455;\n",
              "      --disabled-fill-color: #666;\n",
              "  }\n",
              "\n",
              "  .colab-df-quickchart {\n",
              "    background-color: var(--bg-color);\n",
              "    border: none;\n",
              "    border-radius: 50%;\n",
              "    cursor: pointer;\n",
              "    display: none;\n",
              "    fill: var(--fill-color);\n",
              "    height: 32px;\n",
              "    padding: 0;\n",
              "    width: 32px;\n",
              "  }\n",
              "\n",
              "  .colab-df-quickchart:hover {\n",
              "    background-color: var(--hover-bg-color);\n",
              "    box-shadow: 0 1px 2px rgba(60, 64, 67, 0.3), 0 1px 3px 1px rgba(60, 64, 67, 0.15);\n",
              "    fill: var(--button-hover-fill-color);\n",
              "  }\n",
              "\n",
              "  .colab-df-quickchart-complete:disabled,\n",
              "  .colab-df-quickchart-complete:disabled:hover {\n",
              "    background-color: var(--disabled-bg-color);\n",
              "    fill: var(--disabled-fill-color);\n",
              "    box-shadow: none;\n",
              "  }\n",
              "\n",
              "  .colab-df-spinner {\n",
              "    border: 2px solid var(--fill-color);\n",
              "    border-color: transparent;\n",
              "    border-bottom-color: var(--fill-color);\n",
              "    animation:\n",
              "      spin 1s steps(1) infinite;\n",
              "  }\n",
              "\n",
              "  @keyframes spin {\n",
              "    0% {\n",
              "      border-color: transparent;\n",
              "      border-bottom-color: var(--fill-color);\n",
              "      border-left-color: var(--fill-color);\n",
              "    }\n",
              "    20% {\n",
              "      border-color: transparent;\n",
              "      border-left-color: var(--fill-color);\n",
              "      border-top-color: var(--fill-color);\n",
              "    }\n",
              "    30% {\n",
              "      border-color: transparent;\n",
              "      border-left-color: var(--fill-color);\n",
              "      border-top-color: var(--fill-color);\n",
              "      border-right-color: var(--fill-color);\n",
              "    }\n",
              "    40% {\n",
              "      border-color: transparent;\n",
              "      border-right-color: var(--fill-color);\n",
              "      border-top-color: var(--fill-color);\n",
              "    }\n",
              "    60% {\n",
              "      border-color: transparent;\n",
              "      border-right-color: var(--fill-color);\n",
              "    }\n",
              "    80% {\n",
              "      border-color: transparent;\n",
              "      border-right-color: var(--fill-color);\n",
              "      border-bottom-color: var(--fill-color);\n",
              "    }\n",
              "    90% {\n",
              "      border-color: transparent;\n",
              "      border-bottom-color: var(--fill-color);\n",
              "    }\n",
              "  }\n",
              "</style>\n",
              "\n",
              "  <script>\n",
              "    async function quickchart(key) {\n",
              "      const quickchartButtonEl =\n",
              "        document.querySelector('#' + key + ' button');\n",
              "      quickchartButtonEl.disabled = true;  // To prevent multiple clicks.\n",
              "      quickchartButtonEl.classList.add('colab-df-spinner');\n",
              "      try {\n",
              "        const charts = await google.colab.kernel.invokeFunction(\n",
              "            'suggestCharts', [key], {});\n",
              "      } catch (error) {\n",
              "        console.error('Error during call to suggestCharts:', error);\n",
              "      }\n",
              "      quickchartButtonEl.classList.remove('colab-df-spinner');\n",
              "      quickchartButtonEl.classList.add('colab-df-quickchart-complete');\n",
              "    }\n",
              "    (() => {\n",
              "      let quickchartButtonEl =\n",
              "        document.querySelector('#df-4cc1607b-1601-4629-8f84-33316de20fff button');\n",
              "      quickchartButtonEl.style.display =\n",
              "        google.colab.kernel.accessAllowed ? 'block' : 'none';\n",
              "    })();\n",
              "  </script>\n",
              "</div>\n",
              "    </div>\n",
              "  </div>\n"
            ]
          },
          "metadata": {},
          "execution_count": 41
        }
      ]
    },
    {
      "cell_type": "code",
      "source": [
        "# Check for missing values\n",
        "print(df.isnull().sum())"
      ],
      "metadata": {
        "colab": {
          "base_uri": "https://localhost:8080/"
        },
        "id": "-hpV1V7rPcZ0",
        "outputId": "48a98c1b-f4fe-47a9-f6f2-6ff6aa3d24f9"
      },
      "execution_count": 42,
      "outputs": [
        {
          "output_type": "stream",
          "name": "stdout",
          "text": [
            "longitude                 0\n",
            "latitude                  0\n",
            "altitude                  0\n",
            "init_max_hour             0\n",
            "DrainageSystemCapacity    0\n",
            "Rainfall_GreenSpace       0\n",
            "flooded_init              0\n",
            "flooded_final             0\n",
            "SurfaceType_B             0\n",
            "SurfaceType_C             0\n",
            "SurfaceType_D             0\n",
            "dtype: int64\n"
          ]
        }
      ]
    },
    {
      "cell_type": "markdown",
      "source": [
        "##Scaling/Normalization\n"
      ],
      "metadata": {
        "id": "utrDAR8tKbch"
      }
    },
    {
      "cell_type": "code",
      "source": [
        "from sklearn.preprocessing import MinMaxScaler\n",
        "\n",
        "# Normalize numerical features\n",
        "scaler = MinMaxScaler()\n",
        "df[numeric_columns] = scaler.fit_transform(df[numeric_columns])\n"
      ],
      "metadata": {
        "id": "utkzN8pxKtz7"
      },
      "execution_count": 117,
      "outputs": []
    },
    {
      "cell_type": "code",
      "source": [
        "df = df.astype(np.float32)"
      ],
      "metadata": {
        "id": "xDyv-JgP781q"
      },
      "execution_count": 44,
      "outputs": []
    },
    {
      "cell_type": "code",
      "source": [
        "# Display basic information about the dataset\n",
        "print(df.info(),'\\n\\n')\n",
        "\n",
        "# Display summary statistics of numerical columns\n",
        "print(df.describe(),'\\n\\n')\n",
        "\n",
        "# Check for missing values\n",
        "print('null count:\\n\\n',df.isnull().sum())"
      ],
      "metadata": {
        "id": "rgUPeLBt8Qke"
      },
      "execution_count": null,
      "outputs": []
    },
    {
      "cell_type": "markdown",
      "source": [
        "##Data Splitting"
      ],
      "metadata": {
        "id": "8bapZKD9K-6-"
      }
    },
    {
      "cell_type": "code",
      "source": [
        "from sklearn.model_selection import train_test_split\n",
        "\n",
        "# Assuming 'flooded_final' is the target variable\n",
        "X = df.drop('flooded_final', axis=1)\n",
        "y = df['flooded_final']\n",
        "\n",
        "# Split the data into training and testing sets\n",
        "X_train, X_test, y_train, y_test = train_test_split(X, y, test_size=0.25,\n",
        "                                                    random_state=42,\n",
        "                                                    stratify=y)\n"
      ],
      "metadata": {
        "id": "zXmhtLVv7mQm"
      },
      "execution_count": 46,
      "outputs": []
    },
    {
      "cell_type": "code",
      "source": [
        "import matplotlib.pyplot as plt\n",
        "\n",
        "# Calculate the class distribution in training and testing sets\n",
        "y_train_dist = y_train.value_counts(normalize=True).sort_index()\n",
        "y_test_dist = y_test.value_counts(normalize=True).sort_index()\n",
        "\n",
        "# Create a DataFrame for plotting\n",
        "train_test_dist = pd.DataFrame({'Train': y_train_dist, 'Test': y_test_dist})\n",
        "\n",
        "# Plot the bar chart\n",
        "ax = train_test_dist.plot.bar(rot=0, color=['blue', 'orange'], figsize=(10, 6))\n",
        "plt.xlabel('flooded_final')\n",
        "plt.ylabel('Proportion')\n",
        "plt.title('Class Distribution in Train and Test Sets')\n",
        "plt.show();\n"
      ],
      "metadata": {
        "colab": {
          "base_uri": "https://localhost:8080/",
          "height": 564
        },
        "id": "39k2_bDt-sa6",
        "outputId": "148c3f4d-5260-4f0b-b5af-f397c9f54894"
      },
      "execution_count": 47,
      "outputs": [
        {
          "output_type": "display_data",
          "data": {
            "text/plain": [
              "<Figure size 1000x600 with 1 Axes>"
            ],
            "image/png": "[encoded data removed]"
          },
          "metadata": {}
        }
      ]
    },
    {
      "cell_type": "code",
      "source": [
        "\n",
        "# Display the result\n",
        "print('Train Data Shape: ', X_train.shape, y_train.shape)\n",
        "print('Test Data Shape: ', X_test.shape, y_test.shape)\n"
      ],
      "metadata": {
        "id": "y37LF09UT-y-",
        "colab": {
          "base_uri": "https://localhost:8080/"
        },
        "outputId": "38f6d8ce-b28c-4609-e887-8d8127aef149"
      },
      "execution_count": 48,
      "outputs": [
        {
          "output_type": "stream",
          "name": "stdout",
          "text": [
            "Train Data Shape:  (957222, 10) (957222,)\n",
            "Test Data Shape:  (319074, 10) (319074,)\n"
          ]
        }
      ]
    },
    {
      "cell_type": "markdown",
      "source": [
        "#Apply classifier Models"
      ],
      "metadata": {
        "id": "mm0XyF708kFE"
      }
    },
    {
      "cell_type": "markdown",
      "source": [
        "##Import Packages"
      ],
      "metadata": {
        "id": "jwdqn6cRt7l6"
      }
    },
    {
      "cell_type": "code",
      "source": [
        "from sklearn.model_selection import RandomizedSearchCV, StratifiedKFold\n",
        "from sklearn.preprocessing import StandardScaler, PolynomialFeatures\n",
        "from sklearn.tree import DecisionTreeClassifier\n",
        "from sklearn.linear_model import LogisticRegression, Lasso, Ridge\n",
        "from sklearn.neighbors import KNeighborsClassifier\n",
        "from sklearn.metrics import accuracy_score, classification_report, confusion_matrix\n",
        "from sklearn.pipeline import Pipeline\n",
        "from sklearn.decomposition import PCA\n",
        "from sklearn.metrics import make_scorer, mean_squared_error\n",
        "\n",
        "import time\n",
        "\n",
        "import seaborn as sns"
      ],
      "metadata": {
        "id": "Iiv2NP6r_Mq-"
      },
      "execution_count": 49,
      "outputs": []
    },
    {
      "cell_type": "markdown",
      "source": [
        "##Logistic Regression"
      ],
      "metadata": {
        "id": "MfMfw0Mx_6P8"
      }
    },
    {
      "cell_type": "code",
      "source": [
        "# Initialize the Logistic Regression classifier\n",
        "logreg_classifier = LogisticRegression(random_state=42)\n",
        "\n",
        "# Train the classifier\n",
        "logreg_classifier.fit(X_train, y_train)\n",
        "\n",
        "# Make predictions on the test set\n",
        "y_pred_logreg = logreg_classifier.predict(X_test)"
      ],
      "metadata": {
        "id": "xqn_yx8KAw6w"
      },
      "execution_count": 50,
      "outputs": []
    },
    {
      "cell_type": "code",
      "source": [
        "# Evaluate the performance\n",
        "accuracy_logreg = accuracy_score(y_test, y_pred_logreg)\n",
        "conf_matrix_logreg = confusion_matrix(y_test, y_pred_logreg)\n",
        "classification_rep_logreg = classification_report(y_test, y_pred_logreg)\n",
        "\n",
        "print(\"\\nLogistic Regression Classifier:\\n\")\n",
        "print(f\"Accuracy: {accuracy_logreg:.4f}\\n\")\n",
        "print(\"Confusion Matrix:\")\n",
        "print(conf_matrix_logreg)\n",
        "print(\"\\nClassification Report:\")\n",
        "print(classification_rep_logreg)"
      ],
      "metadata": {
        "colab": {
          "base_uri": "https://localhost:8080/"
        },
        "id": "PCIfWgl_BPUl",
        "outputId": "76527dbe-bf00-4f9c-84cd-0af99211f56e"
      },
      "execution_count": 51,
      "outputs": [
        {
          "output_type": "stream",
          "name": "stdout",
          "text": [
            "\n",
            "Logistic Regression Classifier:\n",
            "\n",
            "Accuracy: 0.8326\n",
            "\n",
            "Confusion Matrix:\n",
            "[[263753   2194]\n",
            " [ 51209   1918]]\n",
            "\n",
            "Classification Report:\n",
            "              precision    recall  f1-score   support\n",
            "\n",
            "         0.0       0.84      0.99      0.91    265947\n",
            "         1.0       0.47      0.04      0.07     53127\n",
            "\n",
            "    accuracy                           0.83    319074\n",
            "   macro avg       0.65      0.51      0.49    319074\n",
            "weighted avg       0.78      0.83      0.77    319074\n",
            "\n"
          ]
        }
      ]
    },
    {
      "cell_type": "markdown",
      "source": [
        "### Logistic Regression Classifier Evaluation Summary\n",
        "\n",
        "- **Accuracy:** The overall accuracy of the model is 83.26%. This metric represents the proportion of correctly classified instances out of the total instances.\n",
        "\n",
        "### Confusion Matrix:\n",
        "\n",
        "- **True Positives (TP):** 1918 instances were correctly predicted as class 1 (Flooded).\n",
        "- **True Negatives (TN):** 263753 instances were correctly predicted as class 0 (Not Flooded).\n",
        "- **False Positives (FP):** 2194 instances were incorrectly predicted as class 1.\n",
        "- **False Negatives (FN):** 51209 instances were incorrectly predicted as class 0.\n",
        "\n",
        "### Classification Report:\n",
        "\n",
        "- **Precision:**\n",
        "  - Precision for class 0 (Not Flooded) is 0.84, and for class 1 (Flooded) is 0.47. Precision is the ratio of correctly predicted positive observations to the total predicted positives. For class 0, 84% of the instances predicted as Not Flooded were actually Not Flooded, and for class 1, 47% of the instances predicted as Flooded were actually Flooded.\n",
        "\n",
        "- **Recall (Sensitivity):**\n",
        "  - Recall for class 0 is 0.99, and for class 1 is 0.04. Recall is the ratio of correctly predicted positive observations to all observations in the actual class. For class 0, 99% of the actual Not Flooded instances were correctly classified, while for class 1, only 4% of the actual Flooded instances were correctly classified.\n",
        "\n",
        "- **F1-Score:**\n",
        "  - F1-score is the weighted average of Precision and Recall. It provides a balance between Precision and Recall. The weighted average F1-score is 0.77.\n",
        "\n",
        "- **Support:**\n",
        "  - The number of actual instances for each class is provided (265947 instances of class 0 and 53127 instances of class 1).\n",
        "\n",
        "- **Macro Avg and Weighted Avg:**\n",
        "  - These are the averages for precision, recall, and F1-score. Macro Avg treats all classes equally, while Weighted Avg considers the number of instances for each class.\n",
        "\n",
        "### Summary:\n",
        "\n",
        "In summary, the model has a high accuracy due to the large number of instances correctly classified as Not Flooded (class 0). However, the model struggles to correctly identify instances of Flooded (class 1), as indicated by the low recall for class 1. The precision for class 1 is also relatively low, indicating a high number of false positives. The F1-score, considering both precision and recall, is moderate. This interpretation suggests that the model might need further tuning or that the class imbalance in the data is impacting its performance, and additional techniques like resampling or adjusting class weights could be considered.\n"
      ],
      "metadata": {
        "id": "yNNRCMzWEHtk"
      }
    },
    {
      "cell_type": "code",
      "source": [
        "# Plot Confusion Matrix for Logistic Regression using seaborn\n",
        "plt.figure(figsize=(8, 6))\n",
        "sns.heatmap(conf_matrix_logreg, annot=True, fmt='d', cmap=\"Reds\",\n",
        "            xticklabels=['Not Flooded', 'Flooded'], yticklabels=['Not Flooded', 'Flooded'])\n",
        "plt.xlabel('Predicted Label')\n",
        "plt.ylabel('True Label')\n",
        "plt.title('Confusion Matrix - Logistic Regression')\n",
        "plt.show()"
      ],
      "metadata": {
        "colab": {
          "base_uri": "https://localhost:8080/",
          "height": 564
        },
        "id": "S_wb1tTNBI9J",
        "outputId": "492184c3-dab5-4e94-ee2f-e1baea56a56e"
      },
      "execution_count": 52,
      "outputs": [
        {
          "output_type": "display_data",
          "data": {
            "text/plain": [
              "<Figure size 800x600 with 2 Axes>"
            ],
            "image/png": "[encoded data removed]"
          },
          "metadata": {}
        }
      ]
    },
    {
      "cell_type": "markdown",
      "source": [
        "##KNN-classifier"
      ],
      "metadata": {
        "id": "zKrr8fCXGC1a"
      }
    },
    {
      "cell_type": "code",
      "source": [
        "# Initialize the KNN classifier\n",
        "knn_classifier = KNeighborsClassifier(n_neighbors=5)\n",
        "\n",
        "# Train the classifier\n",
        "knn_classifier.fit(X_train, y_train)\n",
        "\n",
        "# Make predictions on the test set\n",
        "y_pred_knn = knn_classifier.predict(X_test)\n"
      ],
      "metadata": {
        "id": "DKC1D-eQGFeq"
      },
      "execution_count": null,
      "outputs": []
    },
    {
      "cell_type": "code",
      "source": [
        "# Evaluate the performance\n",
        "accuracy_knn = accuracy_score(y_test, y_pred_knn)\n",
        "conf_matrix_knn = confusion_matrix(y_test, y_pred_knn)\n",
        "classification_rep_knn = classification_report(y_test, y_pred_knn)\n",
        "\n",
        "print(\"K-Nearest Neighbors Classifier:\\n\")\n",
        "print(f\"Accuracy: {accuracy_knn:.4f}\\n\")\n",
        "print(\"Confusion Matrix:\")\n",
        "print(conf_matrix_knn)\n",
        "print(\"\\nClassification Report:\")\n",
        "print(classification_rep_knn)"
      ],
      "metadata": {
        "id": "haAMciwPGayc"
      },
      "execution_count": null,
      "outputs": []
    },
    {
      "cell_type": "markdown",
      "source": [
        "### K-Nearest Neighbors Classifier Evaluation Summary\n",
        "\n",
        "- **Accuracy:** The overall accuracy of the model is 83.94%.\n",
        "\n",
        "### Confusion Matrix:\n",
        "\n",
        "- **True Positives (TP):** 18750 instances were correctly predicted as class 1 (Flooded).\n",
        "- **True Negatives (TN):** 249092 instances were correctly predicted as class 0 (Not Flooded).\n",
        "- **False Positives (FP):** 16855 instances were incorrectly predicted as class 1.\n",
        "- **False Negatives (FN):** 34377 instances were incorrectly predicted as class 0.\n",
        "\n",
        "### Classification Report:\n",
        "\n",
        "- **Precision:**\n",
        "  - Precision for class 0 (Not Flooded) is 0.88, and for class 1 (Flooded) is 0.53. Precision is the ratio of correctly predicted positive observations to the total predicted positives. For class 0, 88% of the instances predicted as Not Flooded were actually Not Flooded, and for class 1, 53% of the instances predicted as Flooded were actually Flooded.\n",
        "\n",
        "- **Recall (Sensitivity):**\n",
        "  - Recall for class 0 is 0.94, and for class 1 is 0.35. Recall is the ratio of correctly predicted positive observations to all observations in the actual class. For class 0, 94% of the actual Not Flooded instances were correctly classified, while for class 1, 35% of the actual Flooded instances were correctly classified.\n",
        "\n",
        "- **F1-Score:**\n",
        "  - F1-score is the weighted average of Precision and Recall. It provides a balance between Precision and Recall. The weighted average F1-score is 0.83.\n",
        "\n",
        "- **Support:**\n",
        "  - The number of actual instances for each class is provided (265947 instances of class 0 and 53127 instances of class 1).\n",
        "\n",
        "- **Summary:**\n",
        "  - The K-Nearest Neighbors classifier has a good accuracy, with high precision and recall for class 0 (Not Flooded) and moderate precision and recall for class 1 (Flooded). The F1-score indicates a reasonable balance between precision and recall. This suggests that the model performs well, particularly in correctly identifying instances of Not Flooded, but there is room for improvement in correctly identifying instances of Flooded.\n"
      ],
      "metadata": {
        "id": "roy62hKOITVa"
      }
    },
    {
      "cell_type": "code",
      "source": [
        "# Plot Confusion Matrix for K-Nearest Neighbors classifier using seaborn\n",
        "plt.figure(figsize=(8, 6))\n",
        "sns.heatmap(conf_matrix_knn, annot=True, fmt='d', cmap=\"Reds\",\n",
        "            xticklabels=['Not Flooded', 'Flooded'], yticklabels=['Not Flooded', 'Flooded'])\n",
        "plt.xlabel('Predicted Label')\n",
        "plt.ylabel('True Label')\n",
        "plt.title('Confusion Matrix - K-Nearest Neighbors classifier')\n",
        "plt.show();"
      ],
      "metadata": {
        "id": "yoTPBMqvISZG"
      },
      "execution_count": null,
      "outputs": []
    },
    {
      "cell_type": "markdown",
      "source": [
        "##Decision Tree Classifier"
      ],
      "metadata": {
        "id": "3PevL3W8Ju6M"
      }
    },
    {
      "cell_type": "code",
      "source": [
        "\n",
        "# Initialize the Decision Tree classifier\n",
        "dt_classifier = DecisionTreeClassifier(random_state=42)\n",
        "\n",
        "# Train the classifier\n",
        "dt_classifier.fit(X_train, y_train)\n",
        "\n",
        "# Make predictions on the test set\n",
        "y_pred_dt = dt_classifier.predict(X_test)\n"
      ],
      "metadata": {
        "id": "nyFsQ_QSJxKf"
      },
      "execution_count": 128,
      "outputs": []
    },
    {
      "cell_type": "code",
      "source": [
        "# Evaluate the performance\n",
        "accuracy_dt = accuracy_score(y_test, y_pred_dt)\n",
        "conf_matrix_dt = confusion_matrix(y_test, y_pred_dt)\n",
        "classification_rep_dt = classification_report(y_test, y_pred_dt)\n",
        "\n",
        "# Print the results\n",
        "print(\"\\nDecision Tree Classifier:\\n\")\n",
        "print(f\"Accuracy: {accuracy_dt:.4f}\\n\")\n",
        "print(\"Confusion Matrix:\\n\")\n",
        "print(conf_matrix_dt)\n",
        "print(\"\\nClassification Report:\")\n",
        "print(classification_rep_dt)"
      ],
      "metadata": {
        "colab": {
          "base_uri": "https://localhost:8080/"
        },
        "id": "69dD1btKJ4zy",
        "outputId": "ab1a11ba-28ef-4590-f937-bc5f449766d0"
      },
      "execution_count": 129,
      "outputs": [
        {
          "output_type": "stream",
          "name": "stdout",
          "text": [
            "\n",
            "Decision Tree Classifier:\n",
            "\n",
            "Accuracy: 0.8978\n",
            "\n",
            "Confusion Matrix:\n",
            "\n",
            "[[253656  12291]\n",
            " [ 20306  32821]]\n",
            "\n",
            "Classification Report:\n",
            "              precision    recall  f1-score   support\n",
            "\n",
            "         0.0       0.93      0.95      0.94    265947\n",
            "         1.0       0.73      0.62      0.67     53127\n",
            "\n",
            "    accuracy                           0.90    319074\n",
            "   macro avg       0.83      0.79      0.80    319074\n",
            "weighted avg       0.89      0.90      0.89    319074\n",
            "\n"
          ]
        }
      ]
    },
    {
      "cell_type": "markdown",
      "source": [
        "### Decision Tree Classifier Evaluation Summary\n",
        "\n",
        "- **Accuracy:** The overall accuracy of the Decision Tree model is 89.78%.\n",
        "\n",
        "### Confusion Matrix:\n",
        "\n",
        "- **True Positives (TP):** 32821 instances were correctly predicted as class 1 (Flooded).\n",
        "- **True Negatives (TN):** 253656 instances were correctly predicted as class 0 (Not Flooded).\n",
        "- **False Positives (FP):** 12291 instances were incorrectly predicted as class 1.\n",
        "- **False Negatives (FN):** 20306 instances were incorrectly predicted as class 0.\n",
        "\n",
        "### Classification Report:\n",
        "\n",
        "- **Precision:**\n",
        "  - Precision for class 0 (Not Flooded) is 0.93, and for class 1 (Flooded) is 0.73. Precision is the ratio of correctly predicted positive observations to the total predicted positives. For class 0, 93% of the instances predicted as Not Flooded were actually Not Flooded, and for class 1, 73% of the instances predicted as Flooded were actually Flooded.\n",
        "\n",
        "- **Recall (Sensitivity):**\n",
        "  - Recall for class 0 is 0.95, and for class 1 is 0.62. Recall is the ratio of correctly predicted positive observations to all observations in the actual class. For class 0, 95% of the actual Not Flooded instances were correctly classified, while for class 1, 62% of the actual Flooded instances were correctly classified.\n",
        "\n",
        "- **F1-Score:**\n",
        "  - F1-score is the weighted average of Precision and Recall. It provides a balance between Precision and Recall. The weighted average F1-score is 0.89.\n",
        "\n",
        "- **Support:**\n",
        "  - The number of actual instances for each class is provided (265947 instances of class 0 and 53127 instances of class 1).\n",
        "\n",
        "- **Summary:**\n",
        "  - The Decision Tree classifier performs well, achieving high accuracy, precision, and recall for class 0 (Not Flooded). However, there is room for improvement in recall for class 1 (Flooded). The F1-score indicates a good balance between precision and recall, suggesting overall strong performance of the model.\n"
      ],
      "metadata": {
        "id": "Sw4V5llxKUIu"
      }
    },
    {
      "cell_type": "code",
      "source": [
        "\n",
        "# Plot Confusion Matrix for Decision Tree\n",
        "plt.figure(figsize=(8, 6))\n",
        "sns.heatmap(conf_matrix_dt, annot=True, fmt='d', cmap=\"Blues\", xticklabels=['Not Flooded', 'Flooded'], yticklabels=['Not Flooded', 'Flooded'])\n",
        "plt.xlabel('Predicted Label')\n",
        "plt.ylabel('True Label')\n",
        "plt.title('Confusion Matrix - Decision Tree')\n",
        "plt.show();\n"
      ],
      "metadata": {
        "colab": {
          "base_uri": "https://localhost:8080/",
          "height": 564
        },
        "id": "DG_w6aaKJ6rQ",
        "outputId": "507431c7-3b14-4a51-e95b-891872886629"
      },
      "execution_count": 130,
      "outputs": [
        {
          "output_type": "display_data",
          "data": {
            "text/plain": [
              "<Figure size 800x600 with 2 Axes>"
            ],
            "image/png": "[encoded data removed]"
          },
          "metadata": {}
        }
      ]
    },
    {
      "cell_type": "markdown",
      "source": [
        "## Models Comparison Summary\n",
        "\n",
        "### K-Nearest Neighbors (KNN) Classifier:\n",
        "- **Accuracy:** 0.8394\n",
        "- **Precision:** 0.88 (Class 0), 0.53 (Class 1)\n",
        "- **Recall:** 0.94 (Class 0), 0.35 (Class 1)\n",
        "- **F1-Score:** 0.91 (Class 0), 0.42 (Class 1)\n",
        "- **Support:** 265947 instances of Class 0, 53127 instances of Class 1\n",
        "\n",
        "### Logistic Regression Classifier:\n",
        "- **Accuracy:** 0.8326\n",
        "- **Precision:** 0.84 (Class 0), 0.47 (Class 1)\n",
        "- **Recall:** 0.99 (Class 0), 0.04 (Class 1)\n",
        "- **F1-Score:** 0.91 (Class 0), 0.07 (Class 1)\n",
        "- **Support:** 265947 instances of Class 0, 53127 instances of Class 1\n",
        "\n",
        "### Decision Tree Classifier:\n",
        "- **Accuracy:** 0.8978\n",
        "- **Precision:** 0.93 (Class 0), 0.73 (Class 1)\n",
        "- **Recall:** 0.95 (Class 0), 0.62 (Class 1)\n",
        "- **F1-Score:** 0.94 (Class 0), 0.67 (Class 1)\n",
        "- **Support:** 265947 instances of Class 0, 53127 instances of Class 1\n",
        "\n",
        "In summary, the Decision Tree classifier outperforms both K-Nearest Neighbors (KNN) and Logistic Regression in terms of accuracy and F1-Score on this dataset. It demonstrates higher precision and recall for both classes, indicating better overall performance.\n"
      ],
      "metadata": {
        "id": "nqalR3ejZ3pS"
      }
    },
    {
      "cell_type": "code",
      "source": [
        "# Assuming you have already trained Decision Tree, KNN, and Logistic Regression classifiers\n",
        "\n",
        "# Print the results\n",
        "print(\"\\nK-Nearest Neighbors (KNN) Classifier:\")\n",
        "print(f\"Accuracy: {accuracy_knn:.4f}\")\n",
        "print(\"Classification Report:\")\n",
        "print(classification_rep_knn)\n",
        "\n",
        "print(\"\\nLogistic Regression Classifier:\")\n",
        "print(f\"Accuracy: {accuracy_logreg:.4f}\")\n",
        "print(\"Classification Report:\")\n",
        "print(classification_rep_logreg)\n",
        "\n",
        "print(\"\\nDecision Tree Classifier:\\n\")\n",
        "print(f\"Accuracy: {accuracy_dt:.4f}\\n\")\n",
        "print(\"\\nClassification Report:\")\n",
        "print(classification_rep_dt)\n"
      ],
      "metadata": {
        "id": "EOVX7FsTXlCI"
      },
      "execution_count": null,
      "outputs": []
    },
    {
      "cell_type": "markdown",
      "source": [
        "#Hyperparameter Tuning"
      ],
      "metadata": {
        "id": "e3109O3wEWeV"
      }
    },
    {
      "cell_type": "markdown",
      "source": [
        "##Cross-Validation"
      ],
      "metadata": {
        "id": "2XUJMXAk-6xL"
      }
    },
    {
      "cell_type": "code",
      "source": [
        "from sklearn.utils import shuffle\n",
        "\n",
        "# Define the batch generator function\n",
        "def batch_generator(X, y, batch_size):\n",
        "    # Shuffle the data before creating batches\n",
        "    X, y = shuffle(X, y, random_state=42)\n",
        "    for i in range(0, len(X), batch_size):\n",
        "        yield X[i:i+batch_size], y[i:i+batch_size]"
      ],
      "metadata": {
        "id": "LgxvqgDqlTJa"
      },
      "execution_count": null,
      "outputs": []
    },
    {
      "cell_type": "code",
      "source": [
        "\n",
        "# Define a function to create a batch generator\n",
        "def batch_generator(X, y, batch_size):\n",
        "    for i in range(0, len(X), batch_size):\n",
        "        yield X[i:i + batch_size], y[i:i + batch_size]\n",
        "\n",
        "# Define a timeout exception\n",
        "class TimeoutError(Exception):\n",
        "    pass\n",
        "\n",
        "# Assuming X_train and y_train are your full dataset\n",
        "# Split the data into a smaller subset for hyperparameter tuning\n",
        "X_train_subset, _, y_train_subset, _ = train_test_split(X_train, y_train,\n",
        "                                                        test_size=0.999,\n",
        "                                                        random_state=42)\n",
        "\n",
        "# Define the Polynomial Regression pipeline with Ridge and Lasso\n",
        "poly_reg_pipeline = Pipeline([\n",
        "    ('poly_features', PolynomialFeatures()),  # Polynomial features\n",
        "    ('scaler', StandardScaler()),  # Standardize the features\n",
        "    ('pca', PCA(n_components=0.95)),  # PCA for dimensionality reduction\n",
        "    ('regressor', Ridge())  # Ridge regression as default\n",
        "])\n",
        "\n",
        "# Define hyperparameters to tune\n",
        "param_dist = {\n",
        "    'poly_features__degree': [3, 5, 7, 8, 10],  # Polynomial degrees\n",
        "    'pca__n_components': [0.8, 0.9, 0.95],  # Adjust the explained variance threshold\n",
        "    'regressor': [Ridge(), Lasso()],  # Ridge and Lasso as options\n",
        "    'regressor__alpha': [1e-4, 1e-3, 1e-2, 0.1]  # Regularization strength\n",
        "}\n",
        "\n",
        "# Use neg_mean_squared_error as a scoring metric\n",
        "scoring_metric = make_scorer(mean_squared_error, greater_is_better=False)\n",
        "\n",
        "# Initialize RandomizedSearchCV for hyperparameter tuning\n",
        "random_search = RandomizedSearchCV(\n",
        "    poly_reg_pipeline,\n",
        "    param_distributions=param_dist,\n",
        "    scoring=scoring_metric,\n",
        "    cv=5,\n",
        "    n_iter=5,  # Adjust the number of iterations based on computational resources\n",
        "    random_state=42\n",
        ")\n",
        "\n",
        "# Batch processing in smaller subsets with time limit\n",
        "batch_size = 1000\n",
        "start_time = time.time()\n",
        "time_limit = 400  # ~ 5 minutes in seconds\n",
        "\n",
        "for X_batch, y_batch in batch_generator(X_train_subset, y_train_subset, batch_size):\n",
        "    random_search.fit(X_batch, y_batch)\n",
        "\n",
        "    elapsed_time = time.time() - start_time\n",
        "\n",
        "    if elapsed_time > time_limit:\n",
        "        print(f\"Execution exceeded the time limit of {time_limit} seconds. Aborting.\")\n",
        "        raise TimeoutError(\"Execution time exceeded the limit.\")\n"
      ],
      "metadata": {
        "id": "9uX_EE2OiHG2"
      },
      "execution_count": null,
      "outputs": []
    },
    {
      "cell_type": "code",
      "source": [
        "# Get the best hyperparameters and the best model\n",
        "best_hyperparameters = random_search.best_params_\n",
        "best_model = random_search.best_estimator_\n",
        "\n",
        "# Make predictions on the test set using the best model\n",
        "y_pred_best = best_model.predict(X_test)\n"
      ],
      "metadata": {
        "id": "eF-uBLvnbx6F"
      },
      "execution_count": null,
      "outputs": []
    },
    {
      "cell_type": "code",
      "source": [
        "# Convert probabilities to binary predictions using a threshold\n",
        "y_pred_best = (y_pred_best >= 0.5).astype(int)\n",
        "\n",
        "# Evaluate performance metrics\n",
        "accuracy = accuracy_score(y_test, y_pred_best)\n",
        "conf_matrix = confusion_matrix(y_test, y_pred_best)\n",
        "class_report = classification_report(y_test, y_pred_best)\n",
        "\n",
        "# Display performance metrics\n",
        "print(f'Accuracy: {accuracy}')\n",
        "print('\\nConfusion Matrix:')\n",
        "print(conf_matrix)\n",
        "print('\\nClassification Report:')\n",
        "print(class_report)"
      ],
      "metadata": {
        "id": "5Y9jIspj790O"
      },
      "execution_count": null,
      "outputs": []
    },
    {
      "cell_type": "code",
      "source": [
        "best_model = random_search.best_estimator_\n",
        "\n",
        "# Extract degree and coefficients\n",
        "degree = best_model.named_steps['poly_features'].degree\n",
        "coef = best_model.named_steps['regressor'].coef_\n",
        "\n",
        "# Plot the coefficients based on the polynomial degree\n",
        "plt.figure(figsize=(12, 6))\n",
        "plt.bar(range(len(coef)), abs(coef), color='g', alpha=0.7)\n",
        "plt.xlabel('Coefficient Index')\n",
        "plt.ylabel('Coefficient Value')\n",
        "plt.title(f'Coefficients vs Polynomial Degree (Degree {degree})')\n",
        "plt.grid(True)\n",
        "plt.show()"
      ],
      "metadata": {
        "id": "7-RzX0zN3qJW"
      },
      "execution_count": null,
      "outputs": []
    },
    {
      "cell_type": "markdown",
      "source": [
        "##Ridge & Lasso"
      ],
      "metadata": {
        "id": "r4oBXoM5EpGG"
      }
    },
    {
      "cell_type": "markdown",
      "source": [
        "Ridge(L2-Regularizarion):\n",
        "$$J(W) = \\frac{1}{2m} \\sum_{i=1}^{m} (h_W(x^{(i)}) - y^{(i)})^2 + \\frac{\\lambda}{2m} \\sum_{j=1}^{n} W_j^2$$\n",
        "\n",
        "Lass(L1-Regularizarion):\n",
        "$$J(W) = \\frac{1}{2m} \\sum_{i=1}^{m} (h_W(x^{(i)}) - y^{(i)})^2 + \\frac{\\lambda}{m} \\sum_{j=1}^{n} |W_j|$$"
      ],
      "metadata": {
        "id": "A2KiJZCcDjZo"
      }
    },
    {
      "cell_type": "markdown",
      "source": [
        "##Report Summary about Best Logestic Regression Model after HP by Means of CV\n",
        "**Classification Report Summary:**\n",
        "\n",
        "- **Accuracy:** 83.3%\n",
        "\n",
        "\n",
        "- **Interpretation:**\n",
        "  - The model achieved high accuracy (83.3%), mainly due to the dominance of class 0 instances (Not Flooded).\n",
        "  - However, it struggles to correctly identify instances of class 1 (Flooded), as indicated by the low recall for class 1.\n",
        "  - Precision for class 1 is relatively low, suggesting a high number of false positives.\n",
        "  - The F1-score, considering both precision and recall, is moderate.\n",
        "\n",
        "- **Recommendations:**\n",
        "  - Further tuning may be required to improve the model's ability to identify instances of class 1.\n",
        "  - Consider addressing the class imbalance in the data using techniques like resampling or adjusting class weights.\n",
        "\n"
      ],
      "metadata": {
        "id": "MWCtB228-OXn"
      }
    },
    {
      "cell_type": "markdown",
      "source": [
        "# Visualizataion\n",
        "If you want to plot your results or any examples (csv) - use the following function `visualize`\n",
        "- this is just for yourself to see if your results make sense or not\n",
        "- the function needs df (coming from the csv with these columns:  'head_id', 'tail_id', 'flooded_init', 'flooded_final'\n",
        "- If you want to visualize properly don't change G's bbox information"
      ],
      "metadata": {
        "id": "_rnpeuftcSQ3"
      }
    },
    {
      "cell_type": "code",
      "source": [
        "!pip install osmnx\n",
        "import pandas as pd\n",
        "import matplotlib.pyplot as plt\n",
        "import osmnx as ox\n"
      ],
      "metadata": {
        "id": "nrJOA7zebSpf",
        "colab": {
          "base_uri": "https://localhost:8080/"
        },
        "outputId": "0f753767-b79b-4094-f1ad-44dbb89c72a5"
      },
      "execution_count": 56,
      "outputs": [
        {
          "output_type": "stream",
          "name": "stdout",
          "text": [
            "Requirement already satisfied: osmnx in /usr/local/lib/python3.10/dist-packages (1.8.1)\n",
            "Requirement already satisfied: geopandas>=0.12 in /usr/local/lib/python3.10/dist-packages (from osmnx) (0.13.2)\n",
            "Requirement already satisfied: networkx>=2.5 in /usr/local/lib/python3.10/dist-packages (from osmnx) (3.2.1)\n",
            "Requirement already satisfied: numpy>=1.20 in /usr/local/lib/python3.10/dist-packages (from osmnx) (1.23.5)\n",
            "Requirement already satisfied: pandas>=1.1 in /usr/local/lib/python3.10/dist-packages (from osmnx) (1.5.3)\n",
            "Requirement already satisfied: requests>=2.27 in /usr/local/lib/python3.10/dist-packages (from osmnx) (2.31.0)\n",
            "Requirement already satisfied: shapely>=2.0 in /usr/local/lib/python3.10/dist-packages (from osmnx) (2.0.2)\n",
            "Requirement already satisfied: fiona>=1.8.19 in /usr/local/lib/python3.10/dist-packages (from geopandas>=0.12->osmnx) (1.9.5)\n",
            "Requirement already satisfied: packaging in /usr/local/lib/python3.10/dist-packages (from geopandas>=0.12->osmnx) (23.2)\n",
            "Requirement already satisfied: pyproj>=3.0.1 in /usr/local/lib/python3.10/dist-packages (from geopandas>=0.12->osmnx) (3.6.1)\n",
            "Requirement already satisfied: python-dateutil>=2.8.1 in /usr/local/lib/python3.10/dist-packages (from pandas>=1.1->osmnx) (2.8.2)\n",
            "Requirement already satisfied: pytz>=2020.1 in /usr/local/lib/python3.10/dist-packages (from pandas>=1.1->osmnx) (2023.3.post1)\n",
            "Requirement already satisfied: charset-normalizer<4,>=2 in /usr/local/lib/python3.10/dist-packages (from requests>=2.27->osmnx) (3.3.2)\n",
            "Requirement already satisfied: idna<4,>=2.5 in /usr/local/lib/python3.10/dist-packages (from requests>=2.27->osmnx) (3.6)\n",
            "Requirement already satisfied: urllib3<3,>=1.21.1 in /usr/local/lib/python3.10/dist-packages (from requests>=2.27->osmnx) (2.0.7)\n",
            "Requirement already satisfied: certifi>=2017.4.17 in /usr/local/lib/python3.10/dist-packages (from requests>=2.27->osmnx) (2023.11.17)\n",
            "Requirement already satisfied: attrs>=19.2.0 in /usr/local/lib/python3.10/dist-packages (from fiona>=1.8.19->geopandas>=0.12->osmnx) (23.1.0)\n",
            "Requirement already satisfied: click~=8.0 in /usr/local/lib/python3.10/dist-packages (from fiona>=1.8.19->geopandas>=0.12->osmnx) (8.1.7)\n",
            "Requirement already satisfied: click-plugins>=1.0 in /usr/local/lib/python3.10/dist-packages (from fiona>=1.8.19->geopandas>=0.12->osmnx) (1.1.1)\n",
            "Requirement already satisfied: cligj>=0.5 in /usr/local/lib/python3.10/dist-packages (from fiona>=1.8.19->geopandas>=0.12->osmnx) (0.7.2)\n",
            "Requirement already satisfied: six in /usr/local/lib/python3.10/dist-packages (from fiona>=1.8.19->geopandas>=0.12->osmnx) (1.16.0)\n",
            "Requirement already satisfied: setuptools in /usr/local/lib/python3.10/dist-packages (from fiona>=1.8.19->geopandas>=0.12->osmnx) (67.7.2)\n"
          ]
        }
      ]
    },
    {
      "cell_type": "code",
      "source": [
        "def visualize(G, df, filename, plot=False, figsize=(5,5)):\n",
        "    # Edge colors based on the 'flooded_init' and 'flooded_final' columns\n",
        "    ec = []\n",
        "\n",
        "    # Extract the unique edges from the dataframe\n",
        "    flooded_init_edges = set(tuple(x) for x in df[df['flooded_init']][['head_id', 'tail_id']].to_numpy())\n",
        "    flooded_final_edges = set(tuple(x) for x in df[df['flooded_final']][['head_id', 'tail_id']].to_numpy())\n",
        "\n",
        "    for u, v, k in G.edges(keys=True):\n",
        "        if (u, v) in flooded_init_edges or (v, u) in flooded_init_edges:\n",
        "            ec.append('slateblue')\n",
        "        elif (u, v) in flooded_final_edges or (v, u) in flooded_final_edges:\n",
        "            ec.append('cyan')\n",
        "        else:\n",
        "            ec.append('silver')\n",
        "\n",
        "    fig, ax = ox.plot_graph(G, edge_color=ec, node_size=0, edge_linewidth=5, figsize=figsize, show=plot, close=False)  # Generate the plot only if plot or save is True\n",
        "\n",
        "    # Save the figure only if save is True\n",
        "    if not plot:\n",
        "        plt.savefig(filename, dpi=75, bbox_inches='tight')\n",
        "        plt.close(fig)\n",
        "\n",
        "    return (fig, ax) if plot else None  # Return the figure and axis if plot is True, otherwise return None\n"
      ],
      "metadata": {
        "id": "cLnjg5S9bVcH"
      },
      "execution_count": 278,
      "outputs": []
    },
    {
      "cell_type": "code",
      "source": [
        "# Create graph from bounding box -- this is just for visualization\n",
        "G = ox.graph_from_bbox(29.79, 29.80, -95.377, -95.387, network_type='drive')  # G is a graph(network) used for visualization\n"
      ],
      "metadata": {
        "id": "YNfx2JhMbVOP"
      },
      "execution_count": 58,
      "outputs": []
    },
    {
      "cell_type": "code",
      "source": [
        "# Load the DataFrame from your CSV file\n",
        "df = pd.read_csv('/content/drive/MyDrive/Mythings/Polimi/ML/Project/MLAssignment202324/example.csv')\n",
        "\n",
        "# Call the function to either plot or to save with any filename like './example.png'\n",
        "visualize(G, df, '/content/drive/MyDrive/Mythings/Polimi/ML/Project/MLAssignment202324/example.png', plot=True)\n",
        "# if you want to save as png, set plot=False\n"
      ],
      "metadata": {
        "id": "hKcvfUh9DLFM",
        "colab": {
          "base_uri": "https://localhost:8080/",
          "height": 439
        },
        "outputId": "8b35945c-0918-4871-c8c9-d72a034a5554"
      },
      "execution_count": 184,
      "outputs": [
        {
          "output_type": "display_data",
          "data": {
            "text/plain": [
              "<Figure size 500x500 with 1 Axes>"
            ],
            "image/png": "[encoded data removed]"
          },
          "metadata": {}
        },
        {
          "output_type": "execute_result",
          "data": {
            "text/plain": [
              "(<Figure size 500x500 with 1 Axes>, <Axes: >)"
            ]
          },
          "metadata": {},
          "execution_count": 184
        }
      ]
    },
    {
      "cell_type": "markdown",
      "source": [
        "# Saving (Serializing) Model"
      ],
      "metadata": {
        "id": "D36tV2z0Bpjh"
      }
    },
    {
      "cell_type": "code",
      "source": [
        "import joblib\n",
        "\n",
        "# Save the model to a file\n",
        "model_filename = 'decision_tree_model.joblib'\n",
        "joblib.dump(dt_classifier, model_filename)"
      ],
      "metadata": {
        "colab": {
          "base_uri": "https://localhost:8080/"
        },
        "id": "vrIjl7zBTTl8",
        "outputId": "ef6331f6-2d0b-473c-cd57-d9d6d0407f0d"
      },
      "execution_count": 133,
      "outputs": [
        {
          "output_type": "execute_result",
          "data": {
            "text/plain": [
              "['decision_tree_model.joblib']"
            ]
          },
          "metadata": {},
          "execution_count": 133
        }
      ]
    },
    {
      "cell_type": "markdown",
      "source": [
        "#Final Prediction on Test.csv"
      ],
      "metadata": {
        "id": "7oomRdlD_zqw"
      }
    },
    {
      "cell_type": "code",
      "source": [
        "ts_df = []\n",
        "ts_h_t = []\n",
        "\n",
        "# Merge the test dataset with edge_info_df based on head_id and tail_id\n",
        "ts_df = pd.merge(edge_info_df[['head_id', 'longitude', 'latitude', 'altitude']],\n",
        "              final_test_df, how='right', on='head_id')\n",
        "\n",
        "ts_h_t = pd.merge(edge_info_df[['head_id', 'tail_id','longitude']], final_test_df,\n",
        "                  how= 'right', on=['head_id', 'tail_id'])\n",
        "ts_h_t = ts_h_t[['head_id', 'tail_id', 'longitude','ObservationIndex']] #will use for visulization\n",
        "\n",
        "# Drop the original head_id and tail_id columns\n",
        "ts_df.drop(['head_id', 'tail_id'], axis=1, inplace=True)\n",
        "\n",
        "\n",
        "ts_df.sample(5, random_state=42)\n",
        "\n"
      ],
      "metadata": {
        "colab": {
          "base_uri": "https://localhost:8080/",
          "height": 206
        },
        "id": "AvZUDvjJGW61",
        "outputId": "2cc9a3b8-3f99-428f-999a-b489dd7c2bc1"
      },
      "execution_count": 226,
      "outputs": [
        {
          "output_type": "execute_result",
          "data": {
            "text/plain": [
              "       longitude   latitude  altitude  ObservationIndex SurfaceType  \\\n",
              "3182  -95.385191  29.792273     901.7                 7           D   \n",
              "82171 -95.380705  29.797653     881.5               189           C   \n",
              "22576 -95.381690  29.797265     915.3                52           D   \n",
              "35127 -95.381157  29.796870     925.2                81           C   \n",
              "62698 -95.378354  29.792117     902.2               144           B   \n",
              "\n",
              "       RainfallIntensity  init_max_hour  DrainageSystemCapacity  \\\n",
              "3182                   5              3                    0.19   \n",
              "82171                  3              3                    0.12   \n",
              "22576                  5              4                    0.17   \n",
              "35127                  5              5                    0.27   \n",
              "62698                  3              4                    0.28   \n",
              "\n",
              "       GreenSpaceRatio  flooded_init  \n",
              "3182              0.22         False  \n",
              "82171             0.10         False  \n",
              "22576             0.30         False  \n",
              "35127             0.15         False  \n",
              "62698             0.29         False  "
            ],
            "text/html": [
              "\n",
              "  <div id=\"df-661e1c27-7285-43a4-b2b8-dc09d4284c17\" class=\"colab-df-container\">\n",
              "    <div>\n",
              "<style scoped>\n",
              "    .dataframe tbody tr th:only-of-type {\n",
              "        vertical-align: middle;\n",
              "    }\n",
              "\n",
              "    .dataframe tbody tr th {\n",
              "        vertical-align: top;\n",
              "    }\n",
              "\n",
              "    .dataframe thead th {\n",
              "        text-align: right;\n",
              "    }\n",
              "</style>\n",
              "<table border=\"1\" class=\"dataframe\">\n",
              "  <thead>\n",
              "    <tr style=\"text-align: right;\">\n",
              "      <th></th>\n",
              "      <th>longitude</th>\n",
              "      <th>latitude</th>\n",
              "      <th>altitude</th>\n",
              "      <th>ObservationIndex</th>\n",
              "      <th>SurfaceType</th>\n",
              "      <th>RainfallIntensity</th>\n",
              "      <th>init_max_hour</th>\n",
              "      <th>DrainageSystemCapacity</th>\n",
              "      <th>GreenSpaceRatio</th>\n",
              "      <th>flooded_init</th>\n",
              "    </tr>\n",
              "  </thead>\n",
              "  <tbody>\n",
              "    <tr>\n",
              "      <th>3182</th>\n",
              "      <td>-95.385191</td>\n",
              "      <td>29.792273</td>\n",
              "      <td>901.7</td>\n",
              "      <td>7</td>\n",
              "      <td>D</td>\n",
              "      <td>5</td>\n",
              "      <td>3</td>\n",
              "      <td>0.19</td>\n",
              "      <td>0.22</td>\n",
              "      <td>False</td>\n",
              "    </tr>\n",
              "    <tr>\n",
              "      <th>82171</th>\n",
              "      <td>-95.380705</td>\n",
              "      <td>29.797653</td>\n",
              "      <td>881.5</td>\n",
              "      <td>189</td>\n",
              "      <td>C</td>\n",
              "      <td>3</td>\n",
              "      <td>3</td>\n",
              "      <td>0.12</td>\n",
              "      <td>0.10</td>\n",
              "      <td>False</td>\n",
              "    </tr>\n",
              "    <tr>\n",
              "      <th>22576</th>\n",
              "      <td>-95.381690</td>\n",
              "      <td>29.797265</td>\n",
              "      <td>915.3</td>\n",
              "      <td>52</td>\n",
              "      <td>D</td>\n",
              "      <td>5</td>\n",
              "      <td>4</td>\n",
              "      <td>0.17</td>\n",
              "      <td>0.30</td>\n",
              "      <td>False</td>\n",
              "    </tr>\n",
              "    <tr>\n",
              "      <th>35127</th>\n",
              "      <td>-95.381157</td>\n",
              "      <td>29.796870</td>\n",
              "      <td>925.2</td>\n",
              "      <td>81</td>\n",
              "      <td>C</td>\n",
              "      <td>5</td>\n",
              "      <td>5</td>\n",
              "      <td>0.27</td>\n",
              "      <td>0.15</td>\n",
              "      <td>False</td>\n",
              "    </tr>\n",
              "    <tr>\n",
              "      <th>62698</th>\n",
              "      <td>-95.378354</td>\n",
              "      <td>29.792117</td>\n",
              "      <td>902.2</td>\n",
              "      <td>144</td>\n",
              "      <td>B</td>\n",
              "      <td>3</td>\n",
              "      <td>4</td>\n",
              "      <td>0.28</td>\n",
              "      <td>0.29</td>\n",
              "      <td>False</td>\n",
              "    </tr>\n",
              "  </tbody>\n",
              "</table>\n",
              "</div>\n",
              "    <div class=\"colab-df-buttons\">\n",
              "\n",
              "  <div class=\"colab-df-container\">\n",
              "    <button class=\"colab-df-convert\" onclick=\"convertToInteractive('df-661e1c27-7285-43a4-b2b8-dc09d4284c17')\"\n",
              "            title=\"Convert this dataframe to an interactive table.\"\n",
              "            style=\"display:none;\">\n",
              "\n",
              "  <svg xmlns=\"http://www.w3.org/2000/svg\" height=\"24px\" viewBox=\"0 -960 960 960\">\n",
              "    <path d=\"M120-120v-720h720v720H120Zm60-500h600v-160H180v160Zm220 220h160v-160H400v160Zm0 220h160v-160H400v160ZM180-400h160v-160H180v160Zm440 0h160v-160H620v160ZM180-180h160v-160H180v160Zm440 0h160v-160H620v160Z\"/>\n",
              "  </svg>\n",
              "    </button>\n",
              "\n",
              "  <style>\n",
              "    .colab-df-container {\n",
              "      display:flex;\n",
              "      gap: 12px;\n",
              "    }\n",
              "\n",
              "    .colab-df-convert {\n",
              "      background-color: #E8F0FE;\n",
              "      border: none;\n",
              "      border-radius: 50%;\n",
              "      cursor: pointer;\n",
              "      display: none;\n",
              "      fill: #1967D2;\n",
              "      height: 32px;\n",
              "      padding: 0 0 0 0;\n",
              "      width: 32px;\n",
              "    }\n",
              "\n",
              "    .colab-df-convert:hover {\n",
              "      background-color: #E2EBFA;\n",
              "      box-shadow: 0px 1px 2px rgba(60, 64, 67, 0.3), 0px 1px 3px 1px rgba(60, 64, 67, 0.15);\n",
              "      fill: #174EA6;\n",
              "    }\n",
              "\n",
              "    .colab-df-buttons div {\n",
              "      margin-bottom: 4px;\n",
              "    }\n",
              "\n",
              "    [theme=dark] .colab-df-convert {\n",
              "      background-color: #3B4455;\n",
              "      fill: #D2E3FC;\n",
              "    }\n",
              "\n",
              "    [theme=dark] .colab-df-convert:hover {\n",
              "      background-color: #434B5C;\n",
              "      box-shadow: 0px 1px 3px 1px rgba(0, 0, 0, 0.15);\n",
              "      filter: drop-shadow(0px 1px 2px rgba(0, 0, 0, 0.3));\n",
              "      fill: #FFFFFF;\n",
              "    }\n",
              "  </style>\n",
              "\n",
              "    <script>\n",
              "      const buttonEl =\n",
              "        document.querySelector('#df-661e1c27-7285-43a4-b2b8-dc09d4284c17 button.colab-df-convert');\n",
              "      buttonEl.style.display =\n",
              "        google.colab.kernel.accessAllowed ? 'block' : 'none';\n",
              "\n",
              "      async function convertToInteractive(key) {\n",
              "        const element = document.querySelector('#df-661e1c27-7285-43a4-b2b8-dc09d4284c17');\n",
              "        const dataTable =\n",
              "          await google.colab.kernel.invokeFunction('convertToInteractive',\n",
              "                                                    [key], {});\n",
              "        if (!dataTable) return;\n",
              "\n",
              "        const docLinkHtml = 'Like what you see? Visit the ' +\n",
              "          '<a target=\"_blank\" href=https://colab.research.google.com/notebooks/data_table.ipynb>data table notebook</a>'\n",
              "          + ' to learn more about interactive tables.';\n",
              "        element.innerHTML = '';\n",
              "        dataTable['output_type'] = 'display_data';\n",
              "        await google.colab.output.renderOutput(dataTable, element);\n",
              "        const docLink = document.createElement('div');\n",
              "        docLink.innerHTML = docLinkHtml;\n",
              "        element.appendChild(docLink);\n",
              "      }\n",
              "    </script>\n",
              "  </div>\n",
              "\n",
              "\n",
              "<div id=\"df-1fb3a8c4-e489-46b9-a0d9-67df718a29cd\">\n",
              "  <button class=\"colab-df-quickchart\" onclick=\"quickchart('df-1fb3a8c4-e489-46b9-a0d9-67df718a29cd')\"\n",
              "            title=\"Suggest charts\"\n",
              "            style=\"display:none;\">\n",
              "\n",
              "<svg xmlns=\"http://www.w3.org/2000/svg\" height=\"24px\"viewBox=\"0 0 24 24\"\n",
              "     width=\"24px\">\n",
              "    <g>\n",
              "        <path d=\"M19 3H5c-1.1 0-2 .9-2 2v14c0 1.1.9 2 2 2h14c1.1 0 2-.9 2-2V5c0-1.1-.9-2-2-2zM9 17H7v-7h2v7zm4 0h-2V7h2v10zm4 0h-2v-4h2v4z\"/>\n",
              "    </g>\n",
              "</svg>\n",
              "  </button>\n",
              "\n",
              "<style>\n",
              "  .colab-df-quickchart {\n",
              "      --bg-color: #E8F0FE;\n",
              "      --fill-color: #1967D2;\n",
              "      --hover-bg-color: #E2EBFA;\n",
              "      --hover-fill-color: #174EA6;\n",
              "      --disabled-fill-color: #AAA;\n",
              "      --disabled-bg-color: #DDD;\n",
              "  }\n",
              "\n",
              "  [theme=dark] .colab-df-quickchart {\n",
              "      --bg-color: #3B4455;\n",
              "      --fill-color: #D2E3FC;\n",
              "      --hover-bg-color: #434B5C;\n",
              "      --hover-fill-color: #FFFFFF;\n",
              "      --disabled-bg-color: #3B4455;\n",
              "      --disabled-fill-color: #666;\n",
              "  }\n",
              "\n",
              "  .colab-df-quickchart {\n",
              "    background-color: var(--bg-color);\n",
              "    border: none;\n",
              "    border-radius: 50%;\n",
              "    cursor: pointer;\n",
              "    display: none;\n",
              "    fill: var(--fill-color);\n",
              "    height: 32px;\n",
              "    padding: 0;\n",
              "    width: 32px;\n",
              "  }\n",
              "\n",
              "  .colab-df-quickchart:hover {\n",
              "    background-color: var(--hover-bg-color);\n",
              "    box-shadow: 0 1px 2px rgba(60, 64, 67, 0.3), 0 1px 3px 1px rgba(60, 64, 67, 0.15);\n",
              "    fill: var(--button-hover-fill-color);\n",
              "  }\n",
              "\n",
              "  .colab-df-quickchart-complete:disabled,\n",
              "  .colab-df-quickchart-complete:disabled:hover {\n",
              "    background-color: var(--disabled-bg-color);\n",
              "    fill: var(--disabled-fill-color);\n",
              "    box-shadow: none;\n",
              "  }\n",
              "\n",
              "  .colab-df-spinner {\n",
              "    border: 2px solid var(--fill-color);\n",
              "    border-color: transparent;\n",
              "    border-bottom-color: var(--fill-color);\n",
              "    animation:\n",
              "      spin 1s steps(1) infinite;\n",
              "  }\n",
              "\n",
              "  @keyframes spin {\n",
              "    0% {\n",
              "      border-color: transparent;\n",
              "      border-bottom-color: var(--fill-color);\n",
              "      border-left-color: var(--fill-color);\n",
              "    }\n",
              "    20% {\n",
              "      border-color: transparent;\n",
              "      border-left-color: var(--fill-color);\n",
              "      border-top-color: var(--fill-color);\n",
              "    }\n",
              "    30% {\n",
              "      border-color: transparent;\n",
              "      border-left-color: var(--fill-color);\n",
              "      border-top-color: var(--fill-color);\n",
              "      border-right-color: var(--fill-color);\n",
              "    }\n",
              "    40% {\n",
              "      border-color: transparent;\n",
              "      border-right-color: var(--fill-color);\n",
              "      border-top-color: var(--fill-color);\n",
              "    }\n",
              "    60% {\n",
              "      border-color: transparent;\n",
              "      border-right-color: var(--fill-color);\n",
              "    }\n",
              "    80% {\n",
              "      border-color: transparent;\n",
              "      border-right-color: var(--fill-color);\n",
              "      border-bottom-color: var(--fill-color);\n",
              "    }\n",
              "    90% {\n",
              "      border-color: transparent;\n",
              "      border-bottom-color: var(--fill-color);\n",
              "    }\n",
              "  }\n",
              "</style>\n",
              "\n",
              "  <script>\n",
              "    async function quickchart(key) {\n",
              "      const quickchartButtonEl =\n",
              "        document.querySelector('#' + key + ' button');\n",
              "      quickchartButtonEl.disabled = true;  // To prevent multiple clicks.\n",
              "      quickchartButtonEl.classList.add('colab-df-spinner');\n",
              "      try {\n",
              "        const charts = await google.colab.kernel.invokeFunction(\n",
              "            'suggestCharts', [key], {});\n",
              "      } catch (error) {\n",
              "        console.error('Error during call to suggestCharts:', error);\n",
              "      }\n",
              "      quickchartButtonEl.classList.remove('colab-df-spinner');\n",
              "      quickchartButtonEl.classList.add('colab-df-quickchart-complete');\n",
              "    }\n",
              "    (() => {\n",
              "      let quickchartButtonEl =\n",
              "        document.querySelector('#df-1fb3a8c4-e489-46b9-a0d9-67df718a29cd button');\n",
              "      quickchartButtonEl.style.display =\n",
              "        google.colab.kernel.accessAllowed ? 'block' : 'none';\n",
              "    })();\n",
              "  </script>\n",
              "</div>\n",
              "    </div>\n",
              "  </div>\n"
            ]
          },
          "metadata": {},
          "execution_count": 226
        }
      ]
    },
    {
      "cell_type": "markdown",
      "source": [
        "##Prepocessing"
      ],
      "metadata": {
        "id": "DZTJYah-HNFK"
      }
    },
    {
      "cell_type": "code",
      "source": [
        "#Create an interaction term between 'RainfallIntensity' and 'GreenSpaceRatio'\n",
        "ts_df['Rainfall_GreenSpace'] = ts_df['RainfallIntensity'] * ts_df['GreenSpaceRatio']\n",
        "\n",
        "# Drop the original GreenSpaceRatio and RainfallIntensity columns\n",
        "ts_df.drop(['GreenSpaceRatio', 'RainfallIntensity'], axis=1, inplace=True)\n",
        "\n",
        "# Reorder columns for better clarity\n",
        "ts_df = ts_df[['longitude', 'latitude', 'altitude', 'SurfaceType',\n",
        "                     'init_max_hour','DrainageSystemCapacity', 'Rainfall_GreenSpace',\n",
        "                     'flooded_init']]"
      ],
      "metadata": {
        "id": "_otSUPqZHcVa"
      },
      "execution_count": 227,
      "outputs": []
    },
    {
      "cell_type": "code",
      "source": [
        "ts_df.sample(5, random_state=42)"
      ],
      "metadata": {
        "colab": {
          "base_uri": "https://localhost:8080/",
          "height": 0
        },
        "id": "byDdSgkULIEY",
        "outputId": "03f8ac65-24c5-450c-82c6-d0fd7f9b8fe4"
      },
      "execution_count": 228,
      "outputs": [
        {
          "output_type": "execute_result",
          "data": {
            "text/plain": [
              "       longitude   latitude  altitude SurfaceType  init_max_hour  \\\n",
              "3182  -95.385191  29.792273     901.7           D              3   \n",
              "82171 -95.380705  29.797653     881.5           C              3   \n",
              "22576 -95.381690  29.797265     915.3           D              4   \n",
              "35127 -95.381157  29.796870     925.2           C              5   \n",
              "62698 -95.378354  29.792117     902.2           B              4   \n",
              "\n",
              "       DrainageSystemCapacity  Rainfall_GreenSpace  flooded_init  \n",
              "3182                     0.19                 1.10         False  \n",
              "82171                    0.12                 0.30         False  \n",
              "22576                    0.17                 1.50         False  \n",
              "35127                    0.27                 0.75         False  \n",
              "62698                    0.28                 0.87         False  "
            ],
            "text/html": [
              "\n",
              "  <div id=\"df-3d2c335e-28b7-46c3-842f-6bb9d8392b89\" class=\"colab-df-container\">\n",
              "    <div>\n",
              "<style scoped>\n",
              "    .dataframe tbody tr th:only-of-type {\n",
              "        vertical-align: middle;\n",
              "    }\n",
              "\n",
              "    .dataframe tbody tr th {\n",
              "        vertical-align: top;\n",
              "    }\n",
              "\n",
              "    .dataframe thead th {\n",
              "        text-align: right;\n",
              "    }\n",
              "</style>\n",
              "<table border=\"1\" class=\"dataframe\">\n",
              "  <thead>\n",
              "    <tr style=\"text-align: right;\">\n",
              "      <th></th>\n",
              "      <th>longitude</th>\n",
              "      <th>latitude</th>\n",
              "      <th>altitude</th>\n",
              "      <th>SurfaceType</th>\n",
              "      <th>init_max_hour</th>\n",
              "      <th>DrainageSystemCapacity</th>\n",
              "      <th>Rainfall_GreenSpace</th>\n",
              "      <th>flooded_init</th>\n",
              "    </tr>\n",
              "  </thead>\n",
              "  <tbody>\n",
              "    <tr>\n",
              "      <th>3182</th>\n",
              "      <td>-95.385191</td>\n",
              "      <td>29.792273</td>\n",
              "      <td>901.7</td>\n",
              "      <td>D</td>\n",
              "      <td>3</td>\n",
              "      <td>0.19</td>\n",
              "      <td>1.10</td>\n",
              "      <td>False</td>\n",
              "    </tr>\n",
              "    <tr>\n",
              "      <th>82171</th>\n",
              "      <td>-95.380705</td>\n",
              "      <td>29.797653</td>\n",
              "      <td>881.5</td>\n",
              "      <td>C</td>\n",
              "      <td>3</td>\n",
              "      <td>0.12</td>\n",
              "      <td>0.30</td>\n",
              "      <td>False</td>\n",
              "    </tr>\n",
              "    <tr>\n",
              "      <th>22576</th>\n",
              "      <td>-95.381690</td>\n",
              "      <td>29.797265</td>\n",
              "      <td>915.3</td>\n",
              "      <td>D</td>\n",
              "      <td>4</td>\n",
              "      <td>0.17</td>\n",
              "      <td>1.50</td>\n",
              "      <td>False</td>\n",
              "    </tr>\n",
              "    <tr>\n",
              "      <th>35127</th>\n",
              "      <td>-95.381157</td>\n",
              "      <td>29.796870</td>\n",
              "      <td>925.2</td>\n",
              "      <td>C</td>\n",
              "      <td>5</td>\n",
              "      <td>0.27</td>\n",
              "      <td>0.75</td>\n",
              "      <td>False</td>\n",
              "    </tr>\n",
              "    <tr>\n",
              "      <th>62698</th>\n",
              "      <td>-95.378354</td>\n",
              "      <td>29.792117</td>\n",
              "      <td>902.2</td>\n",
              "      <td>B</td>\n",
              "      <td>4</td>\n",
              "      <td>0.28</td>\n",
              "      <td>0.87</td>\n",
              "      <td>False</td>\n",
              "    </tr>\n",
              "  </tbody>\n",
              "</table>\n",
              "</div>\n",
              "    <div class=\"colab-df-buttons\">\n",
              "\n",
              "  <div class=\"colab-df-container\">\n",
              "    <button class=\"colab-df-convert\" onclick=\"convertToInteractive('df-3d2c335e-28b7-46c3-842f-6bb9d8392b89')\"\n",
              "            title=\"Convert this dataframe to an interactive table.\"\n",
              "            style=\"display:none;\">\n",
              "\n",
              "  <svg xmlns=\"http://www.w3.org/2000/svg\" height=\"24px\" viewBox=\"0 -960 960 960\">\n",
              "    <path d=\"M120-120v-720h720v720H120Zm60-500h600v-160H180v160Zm220 220h160v-160H400v160Zm0 220h160v-160H400v160ZM180-400h160v-160H180v160Zm440 0h160v-160H620v160ZM180-180h160v-160H180v160Zm440 0h160v-160H620v160Z\"/>\n",
              "  </svg>\n",
              "    </button>\n",
              "\n",
              "  <style>\n",
              "    .colab-df-container {\n",
              "      display:flex;\n",
              "      gap: 12px;\n",
              "    }\n",
              "\n",
              "    .colab-df-convert {\n",
              "      background-color: #E8F0FE;\n",
              "      border: none;\n",
              "      border-radius: 50%;\n",
              "      cursor: pointer;\n",
              "      display: none;\n",
              "      fill: #1967D2;\n",
              "      height: 32px;\n",
              "      padding: 0 0 0 0;\n",
              "      width: 32px;\n",
              "    }\n",
              "\n",
              "    .colab-df-convert:hover {\n",
              "      background-color: #E2EBFA;\n",
              "      box-shadow: 0px 1px 2px rgba(60, 64, 67, 0.3), 0px 1px 3px 1px rgba(60, 64, 67, 0.15);\n",
              "      fill: #174EA6;\n",
              "    }\n",
              "\n",
              "    .colab-df-buttons div {\n",
              "      margin-bottom: 4px;\n",
              "    }\n",
              "\n",
              "    [theme=dark] .colab-df-convert {\n",
              "      background-color: #3B4455;\n",
              "      fill: #D2E3FC;\n",
              "    }\n",
              "\n",
              "    [theme=dark] .colab-df-convert:hover {\n",
              "      background-color: #434B5C;\n",
              "      box-shadow: 0px 1px 3px 1px rgba(0, 0, 0, 0.15);\n",
              "      filter: drop-shadow(0px 1px 2px rgba(0, 0, 0, 0.3));\n",
              "      fill: #FFFFFF;\n",
              "    }\n",
              "  </style>\n",
              "\n",
              "    <script>\n",
              "      const buttonEl =\n",
              "        document.querySelector('#df-3d2c335e-28b7-46c3-842f-6bb9d8392b89 button.colab-df-convert');\n",
              "      buttonEl.style.display =\n",
              "        google.colab.kernel.accessAllowed ? 'block' : 'none';\n",
              "\n",
              "      async function convertToInteractive(key) {\n",
              "        const element = document.querySelector('#df-3d2c335e-28b7-46c3-842f-6bb9d8392b89');\n",
              "        const dataTable =\n",
              "          await google.colab.kernel.invokeFunction('convertToInteractive',\n",
              "                                                    [key], {});\n",
              "        if (!dataTable) return;\n",
              "\n",
              "        const docLinkHtml = 'Like what you see? Visit the ' +\n",
              "          '<a target=\"_blank\" href=https://colab.research.google.com/notebooks/data_table.ipynb>data table notebook</a>'\n",
              "          + ' to learn more about interactive tables.';\n",
              "        element.innerHTML = '';\n",
              "        dataTable['output_type'] = 'display_data';\n",
              "        await google.colab.output.renderOutput(dataTable, element);\n",
              "        const docLink = document.createElement('div');\n",
              "        docLink.innerHTML = docLinkHtml;\n",
              "        element.appendChild(docLink);\n",
              "      }\n",
              "    </script>\n",
              "  </div>\n",
              "\n",
              "\n",
              "<div id=\"df-e4913c1d-04f7-4332-902b-44b6bcf85a94\">\n",
              "  <button class=\"colab-df-quickchart\" onclick=\"quickchart('df-e4913c1d-04f7-4332-902b-44b6bcf85a94')\"\n",
              "            title=\"Suggest charts\"\n",
              "            style=\"display:none;\">\n",
              "\n",
              "<svg xmlns=\"http://www.w3.org/2000/svg\" height=\"24px\"viewBox=\"0 0 24 24\"\n",
              "     width=\"24px\">\n",
              "    <g>\n",
              "        <path d=\"M19 3H5c-1.1 0-2 .9-2 2v14c0 1.1.9 2 2 2h14c1.1 0 2-.9 2-2V5c0-1.1-.9-2-2-2zM9 17H7v-7h2v7zm4 0h-2V7h2v10zm4 0h-2v-4h2v4z\"/>\n",
              "    </g>\n",
              "</svg>\n",
              "  </button>\n",
              "\n",
              "<style>\n",
              "  .colab-df-quickchart {\n",
              "      --bg-color: #E8F0FE;\n",
              "      --fill-color: #1967D2;\n",
              "      --hover-bg-color: #E2EBFA;\n",
              "      --hover-fill-color: #174EA6;\n",
              "      --disabled-fill-color: #AAA;\n",
              "      --disabled-bg-color: #DDD;\n",
              "  }\n",
              "\n",
              "  [theme=dark] .colab-df-quickchart {\n",
              "      --bg-color: #3B4455;\n",
              "      --fill-color: #D2E3FC;\n",
              "      --hover-bg-color: #434B5C;\n",
              "      --hover-fill-color: #FFFFFF;\n",
              "      --disabled-bg-color: #3B4455;\n",
              "      --disabled-fill-color: #666;\n",
              "  }\n",
              "\n",
              "  .colab-df-quickchart {\n",
              "    background-color: var(--bg-color);\n",
              "    border: none;\n",
              "    border-radius: 50%;\n",
              "    cursor: pointer;\n",
              "    display: none;\n",
              "    fill: var(--fill-color);\n",
              "    height: 32px;\n",
              "    padding: 0;\n",
              "    width: 32px;\n",
              "  }\n",
              "\n",
              "  .colab-df-quickchart:hover {\n",
              "    background-color: var(--hover-bg-color);\n",
              "    box-shadow: 0 1px 2px rgba(60, 64, 67, 0.3), 0 1px 3px 1px rgba(60, 64, 67, 0.15);\n",
              "    fill: var(--button-hover-fill-color);\n",
              "  }\n",
              "\n",
              "  .colab-df-quickchart-complete:disabled,\n",
              "  .colab-df-quickchart-complete:disabled:hover {\n",
              "    background-color: var(--disabled-bg-color);\n",
              "    fill: var(--disabled-fill-color);\n",
              "    box-shadow: none;\n",
              "  }\n",
              "\n",
              "  .colab-df-spinner {\n",
              "    border: 2px solid var(--fill-color);\n",
              "    border-color: transparent;\n",
              "    border-bottom-color: var(--fill-color);\n",
              "    animation:\n",
              "      spin 1s steps(1) infinite;\n",
              "  }\n",
              "\n",
              "  @keyframes spin {\n",
              "    0% {\n",
              "      border-color: transparent;\n",
              "      border-bottom-color: var(--fill-color);\n",
              "      border-left-color: var(--fill-color);\n",
              "    }\n",
              "    20% {\n",
              "      border-color: transparent;\n",
              "      border-left-color: var(--fill-color);\n",
              "      border-top-color: var(--fill-color);\n",
              "    }\n",
              "    30% {\n",
              "      border-color: transparent;\n",
              "      border-left-color: var(--fill-color);\n",
              "      border-top-color: var(--fill-color);\n",
              "      border-right-color: var(--fill-color);\n",
              "    }\n",
              "    40% {\n",
              "      border-color: transparent;\n",
              "      border-right-color: var(--fill-color);\n",
              "      border-top-color: var(--fill-color);\n",
              "    }\n",
              "    60% {\n",
              "      border-color: transparent;\n",
              "      border-right-color: var(--fill-color);\n",
              "    }\n",
              "    80% {\n",
              "      border-color: transparent;\n",
              "      border-right-color: var(--fill-color);\n",
              "      border-bottom-color: var(--fill-color);\n",
              "    }\n",
              "    90% {\n",
              "      border-color: transparent;\n",
              "      border-bottom-color: var(--fill-color);\n",
              "    }\n",
              "  }\n",
              "</style>\n",
              "\n",
              "  <script>\n",
              "    async function quickchart(key) {\n",
              "      const quickchartButtonEl =\n",
              "        document.querySelector('#' + key + ' button');\n",
              "      quickchartButtonEl.disabled = true;  // To prevent multiple clicks.\n",
              "      quickchartButtonEl.classList.add('colab-df-spinner');\n",
              "      try {\n",
              "        const charts = await google.colab.kernel.invokeFunction(\n",
              "            'suggestCharts', [key], {});\n",
              "      } catch (error) {\n",
              "        console.error('Error during call to suggestCharts:', error);\n",
              "      }\n",
              "      quickchartButtonEl.classList.remove('colab-df-spinner');\n",
              "      quickchartButtonEl.classList.add('colab-df-quickchart-complete');\n",
              "    }\n",
              "    (() => {\n",
              "      let quickchartButtonEl =\n",
              "        document.querySelector('#df-e4913c1d-04f7-4332-902b-44b6bcf85a94 button');\n",
              "      quickchartButtonEl.style.display =\n",
              "        google.colab.kernel.accessAllowed ? 'block' : 'none';\n",
              "    })();\n",
              "  </script>\n",
              "</div>\n",
              "    </div>\n",
              "  </div>\n"
            ]
          },
          "metadata": {},
          "execution_count": 228
        }
      ]
    },
    {
      "cell_type": "code",
      "source": [
        "#outlier checking\n",
        "\n",
        "ts_df.boxplot(rot=90)\n",
        "plt.yscale('symlog')\n",
        "plt.show()\n"
      ],
      "metadata": {
        "colab": {
          "base_uri": "https://localhost:8080/",
          "height": 0
        },
        "id": "SZtifPh1HyKB",
        "outputId": "57d3f8ac-d3d7-47f0-d416-b179b1d62e62"
      },
      "execution_count": 229,
      "outputs": [
        {
          "output_type": "display_data",
          "data": {
            "text/plain": [
              "<Figure size 640x480 with 1 Axes>"
            ],
            "image/png": "[encoded data removed]"
          },
          "metadata": {}
        }
      ]
    },
    {
      "cell_type": "code",
      "source": [
        "#closer look for the outliers\n",
        "ax = ts_df.plot.box(column=[\"Rainfall_GreenSpace\",\"altitude\"])"
      ],
      "metadata": {
        "colab": {
          "base_uri": "https://localhost:8080/",
          "height": 0
        },
        "id": "Z_HJvDlhJF90",
        "outputId": "79497ccf-ae45-419e-eead-3975af5574d3"
      },
      "execution_count": 230,
      "outputs": [
        {
          "output_type": "display_data",
          "data": {
            "text/plain": [
              "<Figure size 640x480 with 1 Axes>"
            ],
            "image/png": "[encoded data removed]"
          },
          "metadata": {}
        }
      ]
    },
    {
      "cell_type": "code",
      "source": [
        "# Specify the numeric columns you want to handle outliers for\n",
        "numeric_columns = ts_df.select_dtypes(include=['number']).columns\n",
        "\n",
        "\n",
        "# Calculate IQR for each numeric column\n",
        "Q1 = ts_df[numeric_columns].quantile(0.25)\n",
        "Q3 = ts_df[numeric_columns].quantile(0.75)\n",
        "IQR = Q3 - Q1\n",
        "\n",
        "# Identify outliers using the IQR method\n",
        "outliers = ((ts_df[numeric_columns] < (Q1 - 1.5 * IQR)) | (ts_df[numeric_columns] > (Q3 + 1.5 * IQR)))\n",
        "\n",
        "# Remove outliers from the DataFrame\n",
        "ts_df = ts_df[~outliers.any(axis=1)]\n",
        "\n",
        "# Display the cleaned DataFrame\n",
        "print(ts_df)"
      ],
      "metadata": {
        "colab": {
          "base_uri": "https://localhost:8080/"
        },
        "id": "dLQLEuFiKMJM",
        "outputId": "f5fa7a4d-5833-4c59-d5c4-5af0b4978ccf"
      },
      "execution_count": 231,
      "outputs": [
        {
          "output_type": "stream",
          "name": "stdout",
          "text": [
            "       longitude   latitude  altitude SurfaceType  init_max_hour  \\\n",
            "0     -95.382821  29.798740     957.0           D              4   \n",
            "1     -95.383237  29.798445     921.2           D              4   \n",
            "2     -95.382354  29.797764     876.0           D              4   \n",
            "3     -95.382821  29.798740     957.0           D              4   \n",
            "4     -95.383237  29.798445     921.2           D              4   \n",
            "...          ...        ...       ...         ...            ...   \n",
            "86595 -95.386112  29.795351     828.0           C              4   \n",
            "86596 -95.381934  29.790545     939.5           C              4   \n",
            "86597 -95.382500  29.795060     955.8           C              4   \n",
            "86598 -95.385248  29.790811    1011.0           C              4   \n",
            "86599 -95.377183  29.794025    1082.3           C              4   \n",
            "\n",
            "       DrainageSystemCapacity  Rainfall_GreenSpace  flooded_init  \n",
            "0                        0.22                 1.12          True  \n",
            "1                        0.22                 1.12          True  \n",
            "2                        0.22                 1.12          True  \n",
            "3                        0.22                 1.12         False  \n",
            "4                        0.22                 1.12         False  \n",
            "...                       ...                  ...           ...  \n",
            "86595                    0.11                 0.30         False  \n",
            "86596                    0.11                 0.30         False  \n",
            "86597                    0.11                 0.30         False  \n",
            "86598                    0.11                 0.30         False  \n",
            "86599                    0.11                 0.30         False  \n",
            "\n",
            "[85200 rows x 8 columns]\n"
          ]
        }
      ]
    },
    {
      "cell_type": "code",
      "source": [
        "#After outlier removal\n",
        "ax = ts_df.plot.box(column=[\"Rainfall_GreenSpace\",\"altitude\"])"
      ],
      "metadata": {
        "colab": {
          "base_uri": "https://localhost:8080/",
          "height": 0
        },
        "id": "-owIgAq_Lzo7",
        "outputId": "17f45cf5-7b78-404c-b1b2-67f4a8a8edaa"
      },
      "execution_count": 232,
      "outputs": [
        {
          "output_type": "display_data",
          "data": {
            "text/plain": [
              "<Figure size 640x480 with 1 Axes>"
            ],
            "image/png": "[encoded data removed]"
          },
          "metadata": {}
        }
      ]
    },
    {
      "cell_type": "markdown",
      "source": [
        "##Handling Non-numeric Data"
      ],
      "metadata": {
        "id": "zCTp1ORcOND0"
      }
    },
    {
      "cell_type": "code",
      "source": [
        "categorical_columns = ts_df.select_dtypes(include=['object']).columns\n",
        "\n",
        "# One-hot encode\n",
        "ts_df = pd.get_dummies(ts_df, columns=categorical_columns,\n",
        "                       prefix=categorical_columns, drop_first=True)\n",
        "\n",
        "# Encode 'flooded_init' and 'flooded_final'\n",
        "ts_df.flooded_init = [1 if each == \"True\" else 0 for each in ts_df.flooded_init]\n"
      ],
      "metadata": {
        "id": "yLpkMzYxOLrF"
      },
      "execution_count": 233,
      "outputs": []
    },
    {
      "cell_type": "markdown",
      "source": [
        "##Normilize"
      ],
      "metadata": {
        "id": "B2JbsTdWQfi1"
      }
    },
    {
      "cell_type": "code",
      "source": [
        "# Normalize numerical features\n",
        "scaler = MinMaxScaler()\n",
        "ts_df[numeric_columns] = scaler.fit_transform(ts_df[numeric_columns])"
      ],
      "metadata": {
        "id": "PLZCXPRdPdkc"
      },
      "execution_count": 237,
      "outputs": []
    },
    {
      "cell_type": "code",
      "source": [
        "# Display basic information about the dataset\n",
        "print(ts_df.info(),'\\n\\n')\n",
        "\n",
        "# Display summary statistics of numerical columns\n",
        "print(ts_df.describe(),'\\n\\n')\n",
        "\n",
        "# Check for missing values\n",
        "print('null count:\\n\\n',ts_df.isnull().sum())"
      ],
      "metadata": {
        "colab": {
          "base_uri": "https://localhost:8080/"
        },
        "id": "_kXUWRLNQu4f",
        "outputId": "af9b2772-f77f-45a4-f8b4-4cdbece384b1"
      },
      "execution_count": 238,
      "outputs": [
        {
          "output_type": "stream",
          "name": "stdout",
          "text": [
            "<class 'pandas.core.frame.DataFrame'>\n",
            "Int64Index: 85200 entries, 0 to 86599\n",
            "Data columns (total 10 columns):\n",
            " #   Column                  Non-Null Count  Dtype  \n",
            "---  ------                  --------------  -----  \n",
            " 0   longitude               85200 non-null  float64\n",
            " 1   latitude                85200 non-null  float64\n",
            " 2   altitude                85200 non-null  float64\n",
            " 3   init_max_hour           85200 non-null  float64\n",
            " 4   DrainageSystemCapacity  85200 non-null  float64\n",
            " 5   Rainfall_GreenSpace     85200 non-null  float64\n",
            " 6   flooded_init            85200 non-null  int64  \n",
            " 7   SurfaceType_B           85200 non-null  uint8  \n",
            " 8   SurfaceType_C           85200 non-null  uint8  \n",
            " 9   SurfaceType_D           85200 non-null  uint8  \n",
            "dtypes: float64(6), int64(1), uint8(3)\n",
            "memory usage: 5.4 MB\n",
            "None \n",
            "\n",
            "\n",
            "          longitude      latitude      altitude  init_max_hour  \\\n",
            "count  85200.000000  85200.000000  85200.000000   85200.000000   \n",
            "mean       0.527715      0.437952      0.435383       0.505000   \n",
            "std        0.291390      0.278982      0.222924       0.390483   \n",
            "min        0.000000      0.000000      0.000000       0.000000   \n",
            "25%        0.240741      0.220945      0.287840       0.000000   \n",
            "50%        0.527725      0.409130      0.393287       0.500000   \n",
            "75%        0.781693      0.669603      0.591514       1.000000   \n",
            "max        1.000000      1.000000      1.000000       1.000000   \n",
            "\n",
            "       DrainageSystemCapacity  Rainfall_GreenSpace  flooded_init  \\\n",
            "count             85200.00000         85200.000000       85200.0   \n",
            "mean                  0.49150             0.380462           0.0   \n",
            "std                   0.27826             0.226441           0.0   \n",
            "min                   0.00000             0.000000           0.0   \n",
            "25%                   0.25000             0.192308           0.0   \n",
            "50%                   0.50000             0.346154           0.0   \n",
            "75%                   0.70000             0.553846           0.0   \n",
            "max                   1.00000             1.000000           0.0   \n",
            "\n",
            "       SurfaceType_B  SurfaceType_C  SurfaceType_D  \n",
            "count   85200.000000   85200.000000   85200.000000  \n",
            "mean        0.230000       0.225000       0.275000  \n",
            "std         0.420835       0.417585       0.446517  \n",
            "min         0.000000       0.000000       0.000000  \n",
            "25%         0.000000       0.000000       0.000000  \n",
            "50%         0.000000       0.000000       0.000000  \n",
            "75%         0.000000       0.000000       1.000000  \n",
            "max         1.000000       1.000000       1.000000   \n",
            "\n",
            "\n",
            "null count:\n",
            "\n",
            " longitude                 0\n",
            "latitude                  0\n",
            "altitude                  0\n",
            "init_max_hour             0\n",
            "DrainageSystemCapacity    0\n",
            "Rainfall_GreenSpace       0\n",
            "flooded_init              0\n",
            "SurfaceType_B             0\n",
            "SurfaceType_C             0\n",
            "SurfaceType_D             0\n",
            "dtype: int64\n"
          ]
        }
      ]
    },
    {
      "cell_type": "code",
      "source": [
        "ts_df.to_csv('/content/drive/MyDrive/Mythings/Polimi/ML/Project/MLAssignment202324/normalized_test_data.csv', index=False)\n",
        "#save normilized test set"
      ],
      "metadata": {
        "id": "VvRjl2gvg_K_"
      },
      "execution_count": 239,
      "outputs": []
    },
    {
      "cell_type": "markdown",
      "source": [
        "##Apply Model on test set"
      ],
      "metadata": {
        "id": "L3bp36clWWWc"
      }
    },
    {
      "cell_type": "code",
      "source": [
        "# Load the saved model\n",
        "loaded_dt_model = joblib.load('decision_tree_model.joblib')\n",
        "\n",
        "# Apply the loaded model to make predictions on X_test\n",
        "predictions = loaded_dt_model.predict(ts_df)\n",
        "\n",
        "# Add the predictions to the test_df DataFrame as a new column\n",
        "ts_df['flooded_final'] = predictions\n"
      ],
      "metadata": {
        "id": "76Jvkt7UWVIH"
      },
      "execution_count": 240,
      "outputs": []
    },
    {
      "cell_type": "code",
      "source": [
        "y_ts_df_pred = ts_df['flooded_final']\n",
        "\n",
        "# Count the occurrences of each predicted class\n",
        "prediction_counts = pd.Series(y_ts_df_pred).value_counts()\n",
        "\n",
        "percentage_distribution = prediction_counts / len(y_ts_df_pred) * 100\n",
        "\n",
        "# Plot the distribution using a bar chart\n",
        "plt.figure(figsize=(8, 6))\n",
        "sns.barplot(x=percentage_distribution.index, y=percentage_distribution.values, palette='viridis')\n",
        "plt.title('Percentage Distribution of Predictions on ts_df')\n",
        "plt.xlabel('Predicted Class')\n",
        "plt.ylabel('Percentage')\n",
        "plt.show();\n",
        "\n",
        "# Print the percentage of False values\n",
        "percentage_false = percentage_distribution.iloc[0]\n",
        "print(f\"Percentage of False values in 'predicted_flooded': {percentage_false:.2f}%\")"
      ],
      "metadata": {
        "colab": {
          "base_uri": "https://localhost:8080/",
          "height": 0
        },
        "id": "Z9mK22vpYMs2",
        "outputId": "dcb8b629-2ffa-4f60-f2bf-bcfaeab79502"
      },
      "execution_count": 241,
      "outputs": [
        {
          "output_type": "display_data",
          "data": {
            "text/plain": [
              "<Figure size 800x600 with 1 Axes>"
            ],
            "image/png": "[encoded data removed]"
          },
          "metadata": {}
        },
        {
          "output_type": "stream",
          "name": "stdout",
          "text": [
            "Percentage of False values in 'predicted_flooded': 85.88%\n"
          ]
        }
      ]
    },
    {
      "cell_type": "markdown",
      "source": [
        "## Visualizataion on test parameters"
      ],
      "metadata": {
        "id": "R_KVnVh6S--L"
      }
    },
    {
      "cell_type": "code",
      "source": [
        "import os\n",
        "\n",
        "# Create a new directory to save the results\n",
        "output_dir = 'observation_results'\n",
        "os.makedirs(output_dir, exist_ok=True)\n",
        "\n",
        "# Assuming ts_h_t and ts_df are your DataFrames\n",
        "# Add a temporary index to both DataFrames\n",
        "ts_h_t['temp_index'] = ts_h_t.index\n",
        "ts_df['temp_index'] = ts_df.index\n",
        "\n",
        "# Merge based on the temporary index\n",
        "merged_df = pd.merge(ts_h_t, ts_df, on='temp_index', how='inner')\n",
        "\n",
        "# Drop the temporary index\n",
        "merged_df.drop('temp_index', axis=1, inplace=True)\n",
        "\n",
        "# Iterate over unique ObservationIndex values\n",
        "for obs_index in merged_df['ObservationIndex'].unique():\n",
        "    # Slice the merged DataFrame for the current ObservationIndex\n",
        "    slice_df = merged_df[merged_df['ObservationIndex'] == obs_index]\n",
        "\n",
        "    # Create a new DataFrame with the desired columns\n",
        "    result_df = slice_df[['head_id', 'tail_id', 'flooded_init', 'flooded_final']]\n",
        "\n",
        "    # Save the new DataFrame to a CSV file in the specified directory\n",
        "    file_name = os.path.join(output_dir, f'observation_{obs_index}.csv')\n",
        "    result_df.to_csv(file_name, index=False)\n",
        "\n",
        "result_df.sample(4)\n"
      ],
      "metadata": {
        "colab": {
          "base_uri": "https://localhost:8080/",
          "height": 175
        },
        "id": "e3Bm7Xl6oDgx",
        "outputId": "3e12d841-2ca3-415a-ab83-bb84ffd5e43c"
      },
      "execution_count": 271,
      "outputs": [
        {
          "output_type": "execute_result",
          "data": {
            "text/plain": [
              "         head_id    tail_id  flooded_init  flooded_final\n",
              "37441  152361419  152541735             0            1.0\n",
              "37554  152909799  152909812             0            0.0\n",
              "37556  152909821  152909828             0            0.0\n",
              "37513  152600233  152600236             0            0.0"
            ],
            "text/html": [
              "\n",
              "  <div id=\"df-22df0bc5-b318-449f-9b88-5a1141406866\" class=\"colab-df-container\">\n",
              "    <div>\n",
              "<style scoped>\n",
              "    .dataframe tbody tr th:only-of-type {\n",
              "        vertical-align: middle;\n",
              "    }\n",
              "\n",
              "    .dataframe tbody tr th {\n",
              "        vertical-align: top;\n",
              "    }\n",
              "\n",
              "    .dataframe thead th {\n",
              "        text-align: right;\n",
              "    }\n",
              "</style>\n",
              "<table border=\"1\" class=\"dataframe\">\n",
              "  <thead>\n",
              "    <tr style=\"text-align: right;\">\n",
              "      <th></th>\n",
              "      <th>head_id</th>\n",
              "      <th>tail_id</th>\n",
              "      <th>flooded_init</th>\n",
              "      <th>flooded_final</th>\n",
              "    </tr>\n",
              "  </thead>\n",
              "  <tbody>\n",
              "    <tr>\n",
              "      <th>37441</th>\n",
              "      <td>152361419</td>\n",
              "      <td>152541735</td>\n",
              "      <td>0</td>\n",
              "      <td>1.0</td>\n",
              "    </tr>\n",
              "    <tr>\n",
              "      <th>37554</th>\n",
              "      <td>152909799</td>\n",
              "      <td>152909812</td>\n",
              "      <td>0</td>\n",
              "      <td>0.0</td>\n",
              "    </tr>\n",
              "    <tr>\n",
              "      <th>37556</th>\n",
              "      <td>152909821</td>\n",
              "      <td>152909828</td>\n",
              "      <td>0</td>\n",
              "      <td>0.0</td>\n",
              "    </tr>\n",
              "    <tr>\n",
              "      <th>37513</th>\n",
              "      <td>152600233</td>\n",
              "      <td>152600236</td>\n",
              "      <td>0</td>\n",
              "      <td>0.0</td>\n",
              "    </tr>\n",
              "  </tbody>\n",
              "</table>\n",
              "</div>\n",
              "    <div class=\"colab-df-buttons\">\n",
              "\n",
              "  <div class=\"colab-df-container\">\n",
              "    <button class=\"colab-df-convert\" onclick=\"convertToInteractive('df-22df0bc5-b318-449f-9b88-5a1141406866')\"\n",
              "            title=\"Convert this dataframe to an interactive table.\"\n",
              "            style=\"display:none;\">\n",
              "\n",
              "  <svg xmlns=\"http://www.w3.org/2000/svg\" height=\"24px\" viewBox=\"0 -960 960 960\">\n",
              "    <path d=\"M120-120v-720h720v720H120Zm60-500h600v-160H180v160Zm220 220h160v-160H400v160Zm0 220h160v-160H400v160ZM180-400h160v-160H180v160Zm440 0h160v-160H620v160ZM180-180h160v-160H180v160Zm440 0h160v-160H620v160Z\"/>\n",
              "  </svg>\n",
              "    </button>\n",
              "\n",
              "  <style>\n",
              "    .colab-df-container {\n",
              "      display:flex;\n",
              "      gap: 12px;\n",
              "    }\n",
              "\n",
              "    .colab-df-convert {\n",
              "      background-color: #E8F0FE;\n",
              "      border: none;\n",
              "      border-radius: 50%;\n",
              "      cursor: pointer;\n",
              "      display: none;\n",
              "      fill: #1967D2;\n",
              "      height: 32px;\n",
              "      padding: 0 0 0 0;\n",
              "      width: 32px;\n",
              "    }\n",
              "\n",
              "    .colab-df-convert:hover {\n",
              "      background-color: #E2EBFA;\n",
              "      box-shadow: 0px 1px 2px rgba(60, 64, 67, 0.3), 0px 1px 3px 1px rgba(60, 64, 67, 0.15);\n",
              "      fill: #174EA6;\n",
              "    }\n",
              "\n",
              "    .colab-df-buttons div {\n",
              "      margin-bottom: 4px;\n",
              "    }\n",
              "\n",
              "    [theme=dark] .colab-df-convert {\n",
              "      background-color: #3B4455;\n",
              "      fill: #D2E3FC;\n",
              "    }\n",
              "\n",
              "    [theme=dark] .colab-df-convert:hover {\n",
              "      background-color: #434B5C;\n",
              "      box-shadow: 0px 1px 3px 1px rgba(0, 0, 0, 0.15);\n",
              "      filter: drop-shadow(0px 1px 2px rgba(0, 0, 0, 0.3));\n",
              "      fill: #FFFFFF;\n",
              "    }\n",
              "  </style>\n",
              "\n",
              "    <script>\n",
              "      const buttonEl =\n",
              "        document.querySelector('#df-22df0bc5-b318-449f-9b88-5a1141406866 button.colab-df-convert');\n",
              "      buttonEl.style.display =\n",
              "        google.colab.kernel.accessAllowed ? 'block' : 'none';\n",
              "\n",
              "      async function convertToInteractive(key) {\n",
              "        const element = document.querySelector('#df-22df0bc5-b318-449f-9b88-5a1141406866');\n",
              "        const dataTable =\n",
              "          await google.colab.kernel.invokeFunction('convertToInteractive',\n",
              "                                                    [key], {});\n",
              "        if (!dataTable) return;\n",
              "\n",
              "        const docLinkHtml = 'Like what you see? Visit the ' +\n",
              "          '<a target=\"_blank\" href=https://colab.research.google.com/notebooks/data_table.ipynb>data table notebook</a>'\n",
              "          + ' to learn more about interactive tables.';\n",
              "        element.innerHTML = '';\n",
              "        dataTable['output_type'] = 'display_data';\n",
              "        await google.colab.output.renderOutput(dataTable, element);\n",
              "        const docLink = document.createElement('div');\n",
              "        docLink.innerHTML = docLinkHtml;\n",
              "        element.appendChild(docLink);\n",
              "      }\n",
              "    </script>\n",
              "  </div>\n",
              "\n",
              "\n",
              "<div id=\"df-6f8b2e19-d715-4094-a81b-a9eab5f7545d\">\n",
              "  <button class=\"colab-df-quickchart\" onclick=\"quickchart('df-6f8b2e19-d715-4094-a81b-a9eab5f7545d')\"\n",
              "            title=\"Suggest charts\"\n",
              "            style=\"display:none;\">\n",
              "\n",
              "<svg xmlns=\"http://www.w3.org/2000/svg\" height=\"24px\"viewBox=\"0 0 24 24\"\n",
              "     width=\"24px\">\n",
              "    <g>\n",
              "        <path d=\"M19 3H5c-1.1 0-2 .9-2 2v14c0 1.1.9 2 2 2h14c1.1 0 2-.9 2-2V5c0-1.1-.9-2-2-2zM9 17H7v-7h2v7zm4 0h-2V7h2v10zm4 0h-2v-4h2v4z\"/>\n",
              "    </g>\n",
              "</svg>\n",
              "  </button>\n",
              "\n",
              "<style>\n",
              "  .colab-df-quickchart {\n",
              "      --bg-color: #E8F0FE;\n",
              "      --fill-color: #1967D2;\n",
              "      --hover-bg-color: #E2EBFA;\n",
              "      --hover-fill-color: #174EA6;\n",
              "      --disabled-fill-color: #AAA;\n",
              "      --disabled-bg-color: #DDD;\n",
              "  }\n",
              "\n",
              "  [theme=dark] .colab-df-quickchart {\n",
              "      --bg-color: #3B4455;\n",
              "      --fill-color: #D2E3FC;\n",
              "      --hover-bg-color: #434B5C;\n",
              "      --hover-fill-color: #FFFFFF;\n",
              "      --disabled-bg-color: #3B4455;\n",
              "      --disabled-fill-color: #666;\n",
              "  }\n",
              "\n",
              "  .colab-df-quickchart {\n",
              "    background-color: var(--bg-color);\n",
              "    border: none;\n",
              "    border-radius: 50%;\n",
              "    cursor: pointer;\n",
              "    display: none;\n",
              "    fill: var(--fill-color);\n",
              "    height: 32px;\n",
              "    padding: 0;\n",
              "    width: 32px;\n",
              "  }\n",
              "\n",
              "  .colab-df-quickchart:hover {\n",
              "    background-color: var(--hover-bg-color);\n",
              "    box-shadow: 0 1px 2px rgba(60, 64, 67, 0.3), 0 1px 3px 1px rgba(60, 64, 67, 0.15);\n",
              "    fill: var(--button-hover-fill-color);\n",
              "  }\n",
              "\n",
              "  .colab-df-quickchart-complete:disabled,\n",
              "  .colab-df-quickchart-complete:disabled:hover {\n",
              "    background-color: var(--disabled-bg-color);\n",
              "    fill: var(--disabled-fill-color);\n",
              "    box-shadow: none;\n",
              "  }\n",
              "\n",
              "  .colab-df-spinner {\n",
              "    border: 2px solid var(--fill-color);\n",
              "    border-color: transparent;\n",
              "    border-bottom-color: var(--fill-color);\n",
              "    animation:\n",
              "      spin 1s steps(1) infinite;\n",
              "  }\n",
              "\n",
              "  @keyframes spin {\n",
              "    0% {\n",
              "      border-color: transparent;\n",
              "      border-bottom-color: var(--fill-color);\n",
              "      border-left-color: var(--fill-color);\n",
              "    }\n",
              "    20% {\n",
              "      border-color: transparent;\n",
              "      border-left-color: var(--fill-color);\n",
              "      border-top-color: var(--fill-color);\n",
              "    }\n",
              "    30% {\n",
              "      border-color: transparent;\n",
              "      border-left-color: var(--fill-color);\n",
              "      border-top-color: var(--fill-color);\n",
              "      border-right-color: var(--fill-color);\n",
              "    }\n",
              "    40% {\n",
              "      border-color: transparent;\n",
              "      border-right-color: var(--fill-color);\n",
              "      border-top-color: var(--fill-color);\n",
              "    }\n",
              "    60% {\n",
              "      border-color: transparent;\n",
              "      border-right-color: var(--fill-color);\n",
              "    }\n",
              "    80% {\n",
              "      border-color: transparent;\n",
              "      border-right-color: var(--fill-color);\n",
              "      border-bottom-color: var(--fill-color);\n",
              "    }\n",
              "    90% {\n",
              "      border-color: transparent;\n",
              "      border-bottom-color: var(--fill-color);\n",
              "    }\n",
              "  }\n",
              "</style>\n",
              "\n",
              "  <script>\n",
              "    async function quickchart(key) {\n",
              "      const quickchartButtonEl =\n",
              "        document.querySelector('#' + key + ' button');\n",
              "      quickchartButtonEl.disabled = true;  // To prevent multiple clicks.\n",
              "      quickchartButtonEl.classList.add('colab-df-spinner');\n",
              "      try {\n",
              "        const charts = await google.colab.kernel.invokeFunction(\n",
              "            'suggestCharts', [key], {});\n",
              "      } catch (error) {\n",
              "        console.error('Error during call to suggestCharts:', error);\n",
              "      }\n",
              "      quickchartButtonEl.classList.remove('colab-df-spinner');\n",
              "      quickchartButtonEl.classList.add('colab-df-quickchart-complete');\n",
              "    }\n",
              "    (() => {\n",
              "      let quickchartButtonEl =\n",
              "        document.querySelector('#df-6f8b2e19-d715-4094-a81b-a9eab5f7545d button');\n",
              "      quickchartButtonEl.style.display =\n",
              "        google.colab.kernel.accessAllowed ? 'block' : 'none';\n",
              "    })();\n",
              "  </script>\n",
              "</div>\n",
              "    </div>\n",
              "  </div>\n"
            ]
          },
          "metadata": {},
          "execution_count": 271
        }
      ]
    },
    {
      "cell_type": "code",
      "source": [
        "def visualize(G, df, filename, plot=False, figsize=(5, 5)):\n",
        "    ec = []  # Edge colors based on the 'flooded_init' and 'flooded_final' columns\n",
        "    flooded_init_edges = set([tuple(x) for x in df[df['flooded_init'] != 0][['head_id', 'tail_id']].to_numpy()])\n",
        "    flooded_final_edges = set([tuple(x) for x in df[df['flooded_final'] != 0][['head_id', 'tail_id']].to_numpy()])\n",
        "\n",
        "    for u, v, k in G.edges(keys=True):\n",
        "        if (u, v) in flooded_init_edges or (v, u) in flooded_init_edges:\n",
        "            ec.append('slateblue')\n",
        "        elif (u, v) in flooded_final_edges or (v, u) in flooded_final_edges:\n",
        "            ec.append('cyan')\n",
        "        else:\n",
        "            ec.append('silver')\n",
        "\n",
        "    fig, ax = ox.plot_graph(G, edge_color=ec, node_size=0, edge_linewidth=5, figsize=figsize, show=plot, close=False)  # Generate the plot only if plot or save is True\n",
        "\n",
        "    # Save the figure only if save is True\n",
        "    if not plot:\n",
        "        plt.savefig(filename, dpi=75, bbox_inches='tight')\n",
        "        plt.close(fig)\n",
        "\n",
        "    return (fig, ax) if plot else None  # Return the figure and axis if plot is True, otherwise return None\n"
      ],
      "metadata": {
        "id": "eDhZJ6fSwcCo"
      },
      "execution_count": 291,
      "outputs": []
    },
    {
      "cell_type": "code",
      "source": [
        "\n",
        "# Call the function to either plot or to save with any filename like './example.png'\n",
        "visualize(G, result_df, '/content/drive/MyDrive/Mythings/Polimi/ML/Project/MLAssignment202324/example1.png', plot=True)\n",
        "# if you want to save as png, set plot=False\n"
      ],
      "metadata": {
        "colab": {
          "base_uri": "https://localhost:8080/",
          "height": 439
        },
        "id": "7Z_mq98itL6T",
        "outputId": "e2e45d65-3bc6-4532-f5f8-4ccf8d5c6a0c"
      },
      "execution_count": 293,
      "outputs": [
        {
          "output_type": "display_data",
          "data": {
            "text/plain": [
              "<Figure size 500x500 with 1 Axes>"
            ],
            "image/png": "[encoded data removed]"
          },
          "metadata": {}
        },
        {
          "output_type": "execute_result",
          "data": {
            "text/plain": [
              "(<Figure size 500x500 with 1 Axes>, <Axes: >)"
            ]
          },
          "metadata": {},
          "execution_count": 293
        }
      ]
    }
  ]
}